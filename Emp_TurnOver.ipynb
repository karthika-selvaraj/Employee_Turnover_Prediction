{
 "cells": [
  {
   "cell_type": "markdown",
   "metadata": {},
   "source": [
    "# Employee Turnover prediction\n",
    "About data set,\n",
    "- Satisfaction (satisfaction_level)\n",
    "- Last review (last_evaluation)\n",
    "- Number of projects done by employees (number_project)\n",
    "- Average working hours per month (average_montly_hours)\n",
    "- Entry Time (time_spend_company)\n",
    "- Whether there is a work accident (Work_accident)\n",
    "- Have you been promoted in the last five years (promotion_last_5years)\n",
    "- Staff department (department)\n",
    "- Salary level (salary)\n",
    "- Resign (left)"
   ]
  },
  {
   "cell_type": "code",
   "execution_count": 1,
   "metadata": {},
   "outputs": [],
   "source": [
    "#packages\n",
    "import pandas as pd\n",
    "import numpy as np\n",
    "import matplotlib.pyplot as plt\n",
    "import seaborn as sns\n",
    "\n",
    "from imblearn.over_sampling import SMOTE\n",
    "from collections import Counter\n",
    "from sklearn.model_selection import train_test_split\n",
    "from sklearn.model_selection import RandomizedSearchCV\n",
    "from sklearn.preprocessing import StandardScaler\n",
    "\n",
    "from sklearn.linear_model import LogisticRegression\n",
    "from sklearn.tree import DecisionTreeClassifier\n",
    "from sklearn.ensemble import RandomForestClassifier, AdaBoostClassifier\n",
    "from sklearn.neighbors import KNeighborsClassifier\n",
    "from sklearn.naive_bayes import GaussianNB\n",
    "from sklearn.svm import SVC\n",
    "from xgboost import XGBClassifier\n",
    "\n",
    "from sklearn.metrics import accuracy_score,classification_report,confusion_matrix\n",
    "from sklearn.metrics import roc_auc_score,roc_curve\n",
    "from sklearn.metrics import f1_score,precision_score,recall_score\n",
    "\n",
    "import warnings\n",
    "warnings.filterwarnings('ignore')\n",
    "\n",
    "pd.pandas.set_option('display.max_columns',None)\n",
    "pd.pandas.set_option('display.max_rows',None)"
   ]
  },
  {
   "cell_type": "code",
   "execution_count": 2,
   "metadata": {},
   "outputs": [
    {
     "data": {
      "text/html": [
       "<div>\n",
       "<style scoped>\n",
       "    .dataframe tbody tr th:only-of-type {\n",
       "        vertical-align: middle;\n",
       "    }\n",
       "\n",
       "    .dataframe tbody tr th {\n",
       "        vertical-align: top;\n",
       "    }\n",
       "\n",
       "    .dataframe thead th {\n",
       "        text-align: right;\n",
       "    }\n",
       "</style>\n",
       "<table border=\"1\" class=\"dataframe\">\n",
       "  <thead>\n",
       "    <tr style=\"text-align: right;\">\n",
       "      <th></th>\n",
       "      <th>satisfaction_level</th>\n",
       "      <th>last_evaluation</th>\n",
       "      <th>number_project</th>\n",
       "      <th>average_montly_hours</th>\n",
       "      <th>time_spend_company</th>\n",
       "      <th>Work_accident</th>\n",
       "      <th>left</th>\n",
       "      <th>promotion_last_5years</th>\n",
       "      <th>sales</th>\n",
       "      <th>salary</th>\n",
       "    </tr>\n",
       "  </thead>\n",
       "  <tbody>\n",
       "    <tr>\n",
       "      <th>0</th>\n",
       "      <td>0.38</td>\n",
       "      <td>0.53</td>\n",
       "      <td>2</td>\n",
       "      <td>157</td>\n",
       "      <td>3</td>\n",
       "      <td>0</td>\n",
       "      <td>1</td>\n",
       "      <td>0</td>\n",
       "      <td>sales</td>\n",
       "      <td>low</td>\n",
       "    </tr>\n",
       "    <tr>\n",
       "      <th>1</th>\n",
       "      <td>0.80</td>\n",
       "      <td>0.86</td>\n",
       "      <td>5</td>\n",
       "      <td>262</td>\n",
       "      <td>6</td>\n",
       "      <td>0</td>\n",
       "      <td>1</td>\n",
       "      <td>0</td>\n",
       "      <td>sales</td>\n",
       "      <td>medium</td>\n",
       "    </tr>\n",
       "    <tr>\n",
       "      <th>2</th>\n",
       "      <td>0.11</td>\n",
       "      <td>0.88</td>\n",
       "      <td>7</td>\n",
       "      <td>272</td>\n",
       "      <td>4</td>\n",
       "      <td>0</td>\n",
       "      <td>1</td>\n",
       "      <td>0</td>\n",
       "      <td>sales</td>\n",
       "      <td>medium</td>\n",
       "    </tr>\n",
       "    <tr>\n",
       "      <th>3</th>\n",
       "      <td>0.72</td>\n",
       "      <td>0.87</td>\n",
       "      <td>5</td>\n",
       "      <td>223</td>\n",
       "      <td>5</td>\n",
       "      <td>0</td>\n",
       "      <td>1</td>\n",
       "      <td>0</td>\n",
       "      <td>sales</td>\n",
       "      <td>low</td>\n",
       "    </tr>\n",
       "    <tr>\n",
       "      <th>4</th>\n",
       "      <td>0.37</td>\n",
       "      <td>0.52</td>\n",
       "      <td>2</td>\n",
       "      <td>159</td>\n",
       "      <td>3</td>\n",
       "      <td>0</td>\n",
       "      <td>1</td>\n",
       "      <td>0</td>\n",
       "      <td>sales</td>\n",
       "      <td>low</td>\n",
       "    </tr>\n",
       "  </tbody>\n",
       "</table>\n",
       "</div>"
      ],
      "text/plain": [
       "   satisfaction_level  last_evaluation  number_project  average_montly_hours  \\\n",
       "0                0.38             0.53               2                   157   \n",
       "1                0.80             0.86               5                   262   \n",
       "2                0.11             0.88               7                   272   \n",
       "3                0.72             0.87               5                   223   \n",
       "4                0.37             0.52               2                   159   \n",
       "\n",
       "   time_spend_company  Work_accident  left  promotion_last_5years  sales  \\\n",
       "0                   3              0     1                      0  sales   \n",
       "1                   6              0     1                      0  sales   \n",
       "2                   4              0     1                      0  sales   \n",
       "3                   5              0     1                      0  sales   \n",
       "4                   3              0     1                      0  sales   \n",
       "\n",
       "   salary  \n",
       "0     low  \n",
       "1  medium  \n",
       "2  medium  \n",
       "3     low  \n",
       "4     low  "
      ]
     },
     "execution_count": 2,
     "metadata": {},
     "output_type": "execute_result"
    }
   ],
   "source": [
    "# importing dataset\n",
    "df=pd.read_csv('Emp_TurnOver.csv')\n",
    "df.head()"
   ]
  },
  {
   "cell_type": "code",
   "execution_count": 3,
   "metadata": {},
   "outputs": [
    {
     "data": {
      "text/plain": [
       "(14999, 10)"
      ]
     },
     "execution_count": 3,
     "metadata": {},
     "output_type": "execute_result"
    }
   ],
   "source": [
    "df.shape"
   ]
  },
  {
   "cell_type": "code",
   "execution_count": 4,
   "metadata": {},
   "outputs": [],
   "source": [
    "#renaming columns\n",
    "df=df.rename(columns={'sales':'Department'})"
   ]
  },
  {
   "cell_type": "code",
   "execution_count": 5,
   "metadata": {},
   "outputs": [],
   "source": [
    "#encoding\n",
    "cols=['Department','salary']\n",
    "for i in cols:\n",
    "    df[i]=df[i].factorize()[0]"
   ]
  },
  {
   "cell_type": "code",
   "execution_count": 6,
   "metadata": {},
   "outputs": [],
   "source": [
    "#splitting into X,y\n",
    "X=df.drop(['left'],axis=1)\n",
    "y=df['left']"
   ]
  },
  {
   "cell_type": "code",
   "execution_count": 7,
   "metadata": {},
   "outputs": [],
   "source": [
    "#standardization\n",
    "X_train,X_test,y_train,y_test=train_test_split(X,y,test_size=.3,random_state=42)\n",
    "scaler=StandardScaler().fit(X_train)\n",
    "X_train=scaler.transform(X_train)\n",
    "X_test=scaler.transform(X_test)"
   ]
  },
  {
   "cell_type": "code",
   "execution_count": 8,
   "metadata": {},
   "outputs": [],
   "source": [
    "#converting imbalanced into balanced \n",
    "sm=SMOTE()\n",
    "X_train_SM,y_train_SM=sm.fit_resample(X_train,y_train)"
   ]
  },
  {
   "cell_type": "code",
   "execution_count": 13,
   "metadata": {},
   "outputs": [
    {
     "name": "stdout",
     "output_type": "stream",
     "text": [
      "Before Counter({0: 8000, 1: 2499})\n",
      "After Counter({1: 8000, 0: 8000})\n"
     ]
    }
   ],
   "source": [
    "print('Before {}'.format(Counter(y_train)))\n",
    "print('After {}'.format(Counter(y_train_SM)))"
   ]
  },
  {
   "cell_type": "markdown",
   "metadata": {},
   "source": [
    "# Model Evaluation"
   ]
  },
  {
   "cell_type": "code",
   "execution_count": 14,
   "metadata": {},
   "outputs": [],
   "source": [
    "#1.LogisticRegression\n",
    "LogisticRegression=LogisticRegression().fit(X_train_SM,y_train_SM)\n",
    "LogisticRegression_pred=LogisticRegression.predict(X_test)"
   ]
  },
  {
   "cell_type": "code",
   "execution_count": 16,
   "metadata": {},
   "outputs": [],
   "source": [
    "Logistic_Accuracy=accuracy_score(y_test,LogisticRegression_pred)\n",
    "Logistic_Precision=precision_score(y_test,LogisticRegression_pred)\n",
    "Logistic_Recall=recall_score(y_test,LogisticRegression_pred)\n",
    "Logistic_f1Score=f1_score(y_test,LogisticRegression_pred)\n",
    "Logistic_RocAuc=roc_auc_score(y_test,LogisticRegression_pred)"
   ]
  },
  {
   "cell_type": "code",
   "execution_count": 17,
   "metadata": {},
   "outputs": [
    {
     "name": "stdout",
     "output_type": "stream",
     "text": [
      "Logistic_Accuracy : 0.7571111111111111\n",
      "Logistic_Precision : 0.4940102681118083\n",
      "Logistic_Recall : 0.8078358208955224\n",
      "Logistic_f1Score : 0.6130973451327434\n",
      "Logistic_RocAuc : 0.7745421811595465\n"
     ]
    }
   ],
   "source": [
    "print('Logistic_Accuracy : {}'.format(Logistic_Accuracy))\n",
    "print('Logistic_Precision : {}'.format(Logistic_Precision))\n",
    "print('Logistic_Recall : {}'.format(Logistic_Recall))\n",
    "print('Logistic_f1Score : {}'.format(Logistic_f1Score))\n",
    "print('Logistic_RocAuc : {}'.format(Logistic_RocAuc))"
   ]
  },
  {
   "cell_type": "code",
   "execution_count": 18,
   "metadata": {},
   "outputs": [],
   "source": [
    "#2.DecisionTreeClassifier\n",
    "DTreeClassifier=DecisionTreeClassifier().fit(X_train,y_train)\n",
    "DTreeClassifier_Pred=DTreeClassifier.predict(X_test)"
   ]
  },
  {
   "cell_type": "code",
   "execution_count": 19,
   "metadata": {},
   "outputs": [],
   "source": [
    "DT_Accuracy=accuracy_score(y_test,DTreeClassifier_Pred)\n",
    "DT_Precision=precision_score(y_test,DTreeClassifier_Pred)\n",
    "DT_Recall=recall_score(y_test,DTreeClassifier_Pred)\n",
    "DT_f1Score=f1_score(y_test,DTreeClassifier_Pred)\n",
    "DT_RocAuc=roc_auc_score(y_test,DTreeClassifier_Pred)"
   ]
  },
  {
   "cell_type": "code",
   "execution_count": 20,
   "metadata": {},
   "outputs": [
    {
     "name": "stdout",
     "output_type": "stream",
     "text": [
      "DT_Accuracy : 0.9742222222222222\n",
      "DT_Precision : 0.9321880650994575\n",
      "DT_Recall : 0.9617537313432836\n",
      "DT_f1Score : 0.9467401285583105\n",
      "DT_RocAuc : 0.9699375424511051\n"
     ]
    }
   ],
   "source": [
    "print('DT_Accuracy : {}'.format(DT_Accuracy))\n",
    "print('DT_Precision : {}'.format(DT_Precision))\n",
    "print('DT_Recall : {}'.format(DT_Recall))\n",
    "print('DT_f1Score : {}'.format(DT_f1Score))\n",
    "print('DT_RocAuc : {}'.format(DT_RocAuc))"
   ]
  },
  {
   "cell_type": "code",
   "execution_count": 21,
   "metadata": {},
   "outputs": [],
   "source": [
    "#3.RandomForestClassifier\n",
    "RFClassifier=RandomForestClassifier().fit(X_train,y_train)\n",
    "RFClassifier_pred=RFClassifier.predict(X_test)"
   ]
  },
  {
   "cell_type": "code",
   "execution_count": 22,
   "metadata": {},
   "outputs": [],
   "source": [
    "RF_Accuracy=accuracy_score(y_test,RFClassifier_pred)\n",
    "RF_Precision=precision_score(y_test,RFClassifier_pred)\n",
    "RF_Recall=recall_score(y_test,RFClassifier_pred)\n",
    "RF_f1Score=f1_score(y_test,RFClassifier_pred)\n",
    "RF_RocAuc=roc_auc_score(y_test,RFClassifier_pred)"
   ]
  },
  {
   "cell_type": "code",
   "execution_count": 23,
   "metadata": {},
   "outputs": [
    {
     "name": "stdout",
     "output_type": "stream",
     "text": [
      "RF_Accuracy : 0.9884444444444445\n",
      "RF_Precision : 0.9922779922779923\n",
      "RF_Recall : 0.9589552238805971\n",
      "RF_f1Score : 0.9753320683111955\n",
      "RF_RocAuc : 0.9783107507967747\n"
     ]
    }
   ],
   "source": [
    "print('RF_Accuracy : {}'.format(RF_Accuracy))\n",
    "print('RF_Precision : {}'.format(RF_Precision))\n",
    "print('RF_Recall : {}'.format(RF_Recall))\n",
    "print('RF_f1Score : {}'.format(RF_f1Score))\n",
    "print('RF_RocAuc : {}'.format(RF_RocAuc))"
   ]
  },
  {
   "cell_type": "code",
   "execution_count": 24,
   "metadata": {},
   "outputs": [],
   "source": [
    "#4.AdaBoostClassifier\n",
    "AdaBoostClassifier=AdaBoostClassifier().fit(X_train,y_train)\n",
    "AdaBoostClassifier_pred=AdaBoostClassifier.predict(X_test)"
   ]
  },
  {
   "cell_type": "code",
   "execution_count": 25,
   "metadata": {},
   "outputs": [
    {
     "name": "stdout",
     "output_type": "stream",
     "text": [
      "AdaBoost_Accuracy : 0.9582222222222222\n",
      "AdaBoost_Precision : 0.9225621414913958\n",
      "AdaBoost_Recall : 0.9001865671641791\n",
      "AdaBoost_f1Score : 0.91123701605288\n",
      "AdaBoost_RocAuc : 0.9382788145039099\n"
     ]
    }
   ],
   "source": [
    "AdaBoost_Accuracy=accuracy_score(y_test,AdaBoostClassifier_pred)\n",
    "AdaBoost_Precision=precision_score(y_test,AdaBoostClassifier_pred)\n",
    "AdaBoost_Recall=recall_score(y_test,AdaBoostClassifier_pred)\n",
    "AdaBoost_f1Score=f1_score(y_test,AdaBoostClassifier_pred)\n",
    "AdaBoost_RocAuc=roc_auc_score(y_test,AdaBoostClassifier_pred)\n",
    "\n",
    "print('AdaBoost_Accuracy : {}'.format(AdaBoost_Accuracy))\n",
    "print('AdaBoost_Precision : {}'.format(AdaBoost_Precision))\n",
    "print('AdaBoost_Recall : {}'.format(AdaBoost_Recall))\n",
    "print('AdaBoost_f1Score : {}'.format(AdaBoost_f1Score))\n",
    "print('AdaBoost_RocAuc : {}'.format(AdaBoost_RocAuc))"
   ]
  },
  {
   "cell_type": "code",
   "execution_count": 26,
   "metadata": {},
   "outputs": [],
   "source": [
    "#5.KNeighborsClassifier\n",
    "KNNClassifier=KNeighborsClassifier().fit(X_train,y_train)\n",
    "KNNClassifier_pred=KNNClassifier.predict(X_test)"
   ]
  },
  {
   "cell_type": "code",
   "execution_count": 27,
   "metadata": {},
   "outputs": [
    {
     "name": "stdout",
     "output_type": "stream",
     "text": [
      "KNN_Accuracy : 0.9526666666666667\n",
      "KNN_Precision : 0.8980537534754403\n",
      "KNN_Recall : 0.9039179104477612\n",
      "KNN_f1Score : 0.900976290097629\n",
      "KNN_RocAuc : 0.9359146145004267\n"
     ]
    }
   ],
   "source": [
    "KNN_Accuracy=accuracy_score(y_test,KNNClassifier_pred)\n",
    "KNN_Precision=precision_score(y_test,KNNClassifier_pred)\n",
    "KNN_Recall=recall_score(y_test,KNNClassifier_pred)\n",
    "KNN_f1Score=f1_score(y_test,KNNClassifier_pred)\n",
    "KNN_RocAuc=roc_auc_score(y_test,KNNClassifier_pred)\n",
    "\n",
    "print('KNN_Accuracy : {}'.format(KNN_Accuracy))\n",
    "print('KNN_Precision : {}'.format(KNN_Precision))\n",
    "print('KNN_Recall : {}'.format(KNN_Recall))\n",
    "print('KNN_f1Score : {}'.format(KNN_f1Score))\n",
    "print('KNN_RocAuc : {}'.format(KNN_RocAuc))"
   ]
  },
  {
   "cell_type": "code",
   "execution_count": 28,
   "metadata": {},
   "outputs": [],
   "source": [
    "#6.GaussianNB\n",
    "GaussianNB=GaussianNB().fit(X_train,y_train)\n",
    "GaussianNB_pred=GaussianNB.predict(X_test)"
   ]
  },
  {
   "cell_type": "code",
   "execution_count": 29,
   "metadata": {},
   "outputs": [
    {
     "name": "stdout",
     "output_type": "stream",
     "text": [
      "NB_Accuracy : 0.7926666666666666\n",
      "NB_Precision : 0.5496074232690935\n",
      "NB_Recall : 0.7182835820895522\n",
      "NB_f1Score : 0.6227254346947029\n",
      "NB_RocAuc : 0.7671056183493269\n"
     ]
    }
   ],
   "source": [
    "NB_Accuracy=accuracy_score(y_test,GaussianNB_pred)\n",
    "NB_Precision=precision_score(y_test,GaussianNB_pred)\n",
    "NB_Recall=recall_score(y_test,GaussianNB_pred)\n",
    "NB_f1Score=f1_score(y_test,GaussianNB_pred)\n",
    "NB_RocAuc=roc_auc_score(y_test,GaussianNB_pred)\n",
    "\n",
    "print('NB_Accuracy : {}'.format(NB_Accuracy))\n",
    "print('NB_Precision : {}'.format(NB_Precision))\n",
    "print('NB_Recall : {}'.format(NB_Recall))\n",
    "print('NB_f1Score : {}'.format(NB_f1Score))\n",
    "print('NB_RocAuc : {}'.format(NB_RocAuc))"
   ]
  },
  {
   "cell_type": "code",
   "execution_count": 30,
   "metadata": {},
   "outputs": [],
   "source": [
    "#7.SVC\n",
    "SVC=SVC().fit(X_train,y_train)\n",
    "SVC_pred=SVC.predict(X_test)"
   ]
  },
  {
   "cell_type": "code",
   "execution_count": 31,
   "metadata": {},
   "outputs": [
    {
     "name": "stdout",
     "output_type": "stream",
     "text": [
      "SVC_Accuracy : 0.9577777777777777\n",
      "SVC_Precision : 0.9289883268482491\n",
      "SVC_Recall : 0.8908582089552238\n",
      "SVC_f1Score : 0.9095238095238095\n",
      "SVC_RocAuc : 0.9347814965429562\n"
     ]
    }
   ],
   "source": [
    "SVC_Accuracy=accuracy_score(y_test,SVC_pred)\n",
    "SVC_Precision=precision_score(y_test,SVC_pred)\n",
    "SVC_Recall=recall_score(y_test,SVC_pred)\n",
    "SVC_f1Score=f1_score(y_test,SVC_pred)\n",
    "SVC_RocAuc=roc_auc_score(y_test,SVC_pred)\n",
    "\n",
    "print('SVC_Accuracy : {}'.format(SVC_Accuracy))\n",
    "print('SVC_Precision : {}'.format(SVC_Precision))\n",
    "print('SVC_Recall : {}'.format(SVC_Recall))\n",
    "print('SVC_f1Score : {}'.format(SVC_f1Score))\n",
    "print('SVC_RocAuc : {}'.format(SVC_RocAuc))"
   ]
  },
  {
   "cell_type": "code",
   "execution_count": 32,
   "metadata": {},
   "outputs": [
    {
     "name": "stdout",
     "output_type": "stream",
     "text": [
      "[18:34:33] WARNING: C:/Users/Administrator/workspace/xgboost-win64_release_1.4.0/src/learner.cc:1095: Starting in XGBoost 1.3.0, the default evaluation metric used with the objective 'binary:logistic' was changed from 'error' to 'logloss'. Explicitly set eval_metric if you'd like to restore the old behavior.\n"
     ]
    }
   ],
   "source": [
    "#8.XGBClassifier\n",
    "XGBClassifier=XGBClassifier().fit(X_train,y_train)\n",
    "XGB_pred=XGBClassifier.predict(X_test)"
   ]
  },
  {
   "cell_type": "code",
   "execution_count": 33,
   "metadata": {},
   "outputs": [
    {
     "name": "stdout",
     "output_type": "stream",
     "text": [
      "XGB_Accuracy : 0.9855555555555555\n",
      "XGB_Precision : 0.9808978032473734\n",
      "XGB_Recall : 0.9580223880597015\n",
      "XGB_f1Score : 0.9693251533742331\n",
      "XGB_RocAuc : 0.9760940411710409\n"
     ]
    }
   ],
   "source": [
    "XGB_Accuracy=accuracy_score(y_test,XGB_pred)\n",
    "XGB_Precision=precision_score(y_test,XGB_pred)\n",
    "XGB_Recall=recall_score(y_test,XGB_pred)\n",
    "XGB_f1Score=f1_score(y_test,XGB_pred)\n",
    "XGB_RocAuc=roc_auc_score(y_test,XGB_pred)\n",
    "\n",
    "print('XGB_Accuracy : {}'.format(XGB_Accuracy))\n",
    "print('XGB_Precision : {}'.format(XGB_Precision))\n",
    "print('XGB_Recall : {}'.format(XGB_Recall))\n",
    "print('XGB_f1Score : {}'.format(XGB_f1Score))\n",
    "print('XGB_RocAuc : {}'.format(XGB_RocAuc))"
   ]
  },
  {
   "cell_type": "code",
   "execution_count": 34,
   "metadata": {},
   "outputs": [],
   "source": [
    "#visualizing accuracy\n",
    "models=np.array(['LogisticRegression','DecisionTreeClassifier','RandomForestClassifier','AdaBoostClassifier','KNeighborsClassifier','GaussianNB','SVC','XGBClassifier'])\n",
    "scores=np.array([Logistic_Accuracy,DT_Accuracy,RF_Accuracy,AdaBoost_Accuracy,KNN_Accuracy,NB_Accuracy,SVC_Accuracy,XGB_Accuracy])"
   ]
  },
  {
   "cell_type": "code",
   "execution_count": 36,
   "metadata": {},
   "outputs": [
    {
     "data": {
      "text/plain": [
       "<BarContainer object of 8 artists>"
      ]
     },
     "execution_count": 36,
     "metadata": {},
     "output_type": "execute_result"
    },
    {
     "data": {
      "image/png": "[encoded data removed]",
      "text/plain": [
       "<Figure size 1440x504 with 1 Axes>"
      ]
     },
     "metadata": {
      "needs_background": "light"
     },
     "output_type": "display_data"
    }
   ],
   "source": [
    "plt.figure(figsize=(20,7))\n",
    "plt.bar(models,scores,color='orange')"
   ]
  },
  {
   "cell_type": "markdown",
   "metadata": {},
   "source": [
    "- Clearly we can say that among all classification algorithms RandomForestClassifier gives more accuracy 0.9884, approximately 98%. \n",
    "- At the same time XGBoostClassifier gives same accuracy but there is a little bit change in points 0.9855, approximately also 98%.\n",
    "------------------------------------------------------------------------------------------------------------------------------"
   ]
  },
  {
   "cell_type": "markdown",
   "metadata": {},
   "source": [
    "# Hyper parameter tuning"
   ]
  },
  {
   "cell_type": "markdown",
   "metadata": {},
   "source": [
    "- As we know, for our data RandomForestClassifier gives more accuracy. So I'm going to choose RandomForestClassifier for the next further implementation."
   ]
  },
  {
   "cell_type": "code",
   "execution_count": 44,
   "metadata": {},
   "outputs": [],
   "source": [
    "params={'n_estimators':[int(a) for a in np.linspace(start=10,stop=1000,num=10)],\n",
    "       'max_depth':[int(b) for b in np.linspace(start=5,stop=30,num=6)],\n",
    "       'max_features':[\"auto\", \"sqrt\", \"log2\"],\n",
    "       'min_samples_split':[5,10,15,20,17],\n",
    "        'min_samples_leaf':[2,4,6,8],\n",
    "       'criterion' : [\"gini\", \"entropy\"]}"
   ]
  },
  {
   "cell_type": "code",
   "execution_count": 45,
   "metadata": {},
   "outputs": [],
   "source": [
    "RF_Model=RandomForestClassifier()\n",
    "Hyper_RF=RandomizedSearchCV(estimator=RF_Model,param_distributions=params,n_iter=100,cv=5,random_state=42,n_jobs=1,verbose=2)"
   ]
  },
  {
   "cell_type": "code",
   "execution_count": 46,
   "metadata": {},
   "outputs": [
    {
     "name": "stdout",
     "output_type": "stream",
     "text": [
      "Fitting 5 folds for each of 100 candidates, totalling 500 fits\n",
      "[CV] END criterion=gini, max_depth=30, max_features=auto, min_samples_leaf=4, min_samples_split=17, n_estimators=890; total time=  11.1s\n",
      "[CV] END criterion=gini, max_depth=30, max_features=auto, min_samples_leaf=4, min_samples_split=17, n_estimators=890; total time=  11.1s\n",
      "[CV] END criterion=gini, max_depth=30, max_features=auto, min_samples_leaf=4, min_samples_split=17, n_estimators=890; total time=  10.2s\n",
      "[CV] END criterion=gini, max_depth=30, max_features=auto, min_samples_leaf=4, min_samples_split=17, n_estimators=890; total time=  10.2s\n",
      "[CV] END criterion=gini, max_depth=30, max_features=auto, min_samples_leaf=4, min_samples_split=17, n_estimators=890; total time=  10.2s\n",
      "[CV] END criterion=gini, max_depth=25, max_features=auto, min_samples_leaf=6, min_samples_split=20, n_estimators=120; total time=   1.5s\n",
      "[CV] END criterion=gini, max_depth=25, max_features=auto, min_samples_leaf=6, min_samples_split=20, n_estimators=120; total time=   1.4s\n",
      "[CV] END criterion=gini, max_depth=25, max_features=auto, min_samples_leaf=6, min_samples_split=20, n_estimators=120; total time=   1.2s\n",
      "[CV] END criterion=gini, max_depth=25, max_features=auto, min_samples_leaf=6, min_samples_split=20, n_estimators=120; total time=   1.2s\n",
      "[CV] END criterion=gini, max_depth=25, max_features=auto, min_samples_leaf=6, min_samples_split=20, n_estimators=120; total time=   1.3s\n",
      "[CV] END criterion=entropy, max_depth=5, max_features=log2, min_samples_leaf=4, min_samples_split=15, n_estimators=120; total time=   0.9s\n",
      "[CV] END criterion=entropy, max_depth=5, max_features=log2, min_samples_leaf=4, min_samples_split=15, n_estimators=120; total time=   0.9s\n",
      "[CV] END criterion=entropy, max_depth=5, max_features=log2, min_samples_leaf=4, min_samples_split=15, n_estimators=120; total time=   0.9s\n",
      "[CV] END criterion=entropy, max_depth=5, max_features=log2, min_samples_leaf=4, min_samples_split=15, n_estimators=120; total time=   0.9s\n",
      "[CV] END criterion=entropy, max_depth=5, max_features=log2, min_samples_leaf=4, min_samples_split=15, n_estimators=120; total time=   0.9s\n",
      "[CV] END criterion=gini, max_depth=15, max_features=auto, min_samples_leaf=4, min_samples_split=20, n_estimators=780; total time=   8.8s\n",
      "[CV] END criterion=gini, max_depth=15, max_features=auto, min_samples_leaf=4, min_samples_split=20, n_estimators=780; total time=   8.5s\n",
      "[CV] END criterion=gini, max_depth=15, max_features=auto, min_samples_leaf=4, min_samples_split=20, n_estimators=780; total time=   9.4s\n",
      "[CV] END criterion=gini, max_depth=15, max_features=auto, min_samples_leaf=4, min_samples_split=20, n_estimators=780; total time=   9.3s\n",
      "[CV] END criterion=gini, max_depth=15, max_features=auto, min_samples_leaf=4, min_samples_split=20, n_estimators=780; total time=   8.9s\n",
      "[CV] END criterion=gini, max_depth=25, max_features=auto, min_samples_leaf=6, min_samples_split=17, n_estimators=10; total time=   0.0s\n",
      "[CV] END criterion=gini, max_depth=25, max_features=auto, min_samples_leaf=6, min_samples_split=17, n_estimators=10; total time=   0.0s\n",
      "[CV] END criterion=gini, max_depth=25, max_features=auto, min_samples_leaf=6, min_samples_split=17, n_estimators=10; total time=   0.0s\n",
      "[CV] END criterion=gini, max_depth=25, max_features=auto, min_samples_leaf=6, min_samples_split=17, n_estimators=10; total time=   0.0s\n",
      "[CV] END criterion=gini, max_depth=25, max_features=auto, min_samples_leaf=6, min_samples_split=17, n_estimators=10; total time=   0.0s\n",
      "[CV] END criterion=gini, max_depth=5, max_features=sqrt, min_samples_leaf=4, min_samples_split=10, n_estimators=340; total time=   2.5s\n",
      "[CV] END criterion=gini, max_depth=5, max_features=sqrt, min_samples_leaf=4, min_samples_split=10, n_estimators=340; total time=   2.6s\n",
      "[CV] END criterion=gini, max_depth=5, max_features=sqrt, min_samples_leaf=4, min_samples_split=10, n_estimators=340; total time=   3.0s\n",
      "[CV] END criterion=gini, max_depth=5, max_features=sqrt, min_samples_leaf=4, min_samples_split=10, n_estimators=340; total time=   2.7s\n",
      "[CV] END criterion=gini, max_depth=5, max_features=sqrt, min_samples_leaf=4, min_samples_split=10, n_estimators=340; total time=   2.5s\n",
      "[CV] END criterion=entropy, max_depth=25, max_features=auto, min_samples_leaf=6, min_samples_split=15, n_estimators=340; total time=   3.8s\n",
      "[CV] END criterion=entropy, max_depth=25, max_features=auto, min_samples_leaf=6, min_samples_split=15, n_estimators=340; total time=   3.8s\n",
      "[CV] END criterion=entropy, max_depth=25, max_features=auto, min_samples_leaf=6, min_samples_split=15, n_estimators=340; total time=   4.0s\n",
      "[CV] END criterion=entropy, max_depth=25, max_features=auto, min_samples_leaf=6, min_samples_split=15, n_estimators=340; total time=   3.8s\n",
      "[CV] END criterion=entropy, max_depth=25, max_features=auto, min_samples_leaf=6, min_samples_split=15, n_estimators=340; total time=   3.8s\n",
      "[CV] END criterion=gini, max_depth=25, max_features=auto, min_samples_leaf=2, min_samples_split=20, n_estimators=1000; total time=  11.4s\n",
      "[CV] END criterion=gini, max_depth=25, max_features=auto, min_samples_leaf=2, min_samples_split=20, n_estimators=1000; total time=  11.4s\n",
      "[CV] END criterion=gini, max_depth=25, max_features=auto, min_samples_leaf=2, min_samples_split=20, n_estimators=1000; total time=  11.3s\n",
      "[CV] END criterion=gini, max_depth=25, max_features=auto, min_samples_leaf=2, min_samples_split=20, n_estimators=1000; total time=  14.4s\n",
      "[CV] END criterion=gini, max_depth=25, max_features=auto, min_samples_leaf=2, min_samples_split=20, n_estimators=1000; total time=  12.5s\n",
      "[CV] END criterion=entropy, max_depth=5, max_features=auto, min_samples_leaf=6, min_samples_split=17, n_estimators=1000; total time=   8.8s\n",
      "[CV] END criterion=entropy, max_depth=5, max_features=auto, min_samples_leaf=6, min_samples_split=17, n_estimators=1000; total time=   7.9s\n",
      "[CV] END criterion=entropy, max_depth=5, max_features=auto, min_samples_leaf=6, min_samples_split=17, n_estimators=1000; total time=   8.1s\n",
      "[CV] END criterion=entropy, max_depth=5, max_features=auto, min_samples_leaf=6, min_samples_split=17, n_estimators=1000; total time=   8.1s\n",
      "[CV] END criterion=entropy, max_depth=5, max_features=auto, min_samples_leaf=6, min_samples_split=17, n_estimators=1000; total time=   8.4s\n",
      "[CV] END criterion=gini, max_depth=10, max_features=log2, min_samples_leaf=8, min_samples_split=17, n_estimators=1000; total time=  10.8s\n",
      "[CV] END criterion=gini, max_depth=10, max_features=log2, min_samples_leaf=8, min_samples_split=17, n_estimators=1000; total time=  10.5s\n",
      "[CV] END criterion=gini, max_depth=10, max_features=log2, min_samples_leaf=8, min_samples_split=17, n_estimators=1000; total time=  10.6s\n",
      "[CV] END criterion=gini, max_depth=10, max_features=log2, min_samples_leaf=8, min_samples_split=17, n_estimators=1000; total time=  10.4s\n",
      "[CV] END criterion=gini, max_depth=10, max_features=log2, min_samples_leaf=8, min_samples_split=17, n_estimators=1000; total time=  10.6s\n",
      "[CV] END criterion=gini, max_depth=20, max_features=auto, min_samples_leaf=2, min_samples_split=20, n_estimators=1000; total time=  11.3s\n",
      "[CV] END criterion=gini, max_depth=20, max_features=auto, min_samples_leaf=2, min_samples_split=20, n_estimators=1000; total time=  11.9s\n",
      "[CV] END criterion=gini, max_depth=20, max_features=auto, min_samples_leaf=2, min_samples_split=20, n_estimators=1000; total time=  11.4s\n",
      "[CV] END criterion=gini, max_depth=20, max_features=auto, min_samples_leaf=2, min_samples_split=20, n_estimators=1000; total time=  11.6s\n",
      "[CV] END criterion=gini, max_depth=20, max_features=auto, min_samples_leaf=2, min_samples_split=20, n_estimators=1000; total time=  11.3s\n",
      "[CV] END criterion=gini, max_depth=20, max_features=sqrt, min_samples_leaf=2, min_samples_split=15, n_estimators=450; total time=   5.0s\n",
      "[CV] END criterion=gini, max_depth=20, max_features=sqrt, min_samples_leaf=2, min_samples_split=15, n_estimators=450; total time=   5.0s\n",
      "[CV] END criterion=gini, max_depth=20, max_features=sqrt, min_samples_leaf=2, min_samples_split=15, n_estimators=450; total time=   5.1s\n",
      "[CV] END criterion=gini, max_depth=20, max_features=sqrt, min_samples_leaf=2, min_samples_split=15, n_estimators=450; total time=   5.6s\n",
      "[CV] END criterion=gini, max_depth=20, max_features=sqrt, min_samples_leaf=2, min_samples_split=15, n_estimators=450; total time=   5.4s\n"
     ]
    },
    {
     "name": "stdout",
     "output_type": "stream",
     "text": [
      "[CV] END criterion=gini, max_depth=20, max_features=log2, min_samples_leaf=2, min_samples_split=15, n_estimators=670; total time=   7.7s\n",
      "[CV] END criterion=gini, max_depth=20, max_features=log2, min_samples_leaf=2, min_samples_split=15, n_estimators=670; total time=   7.5s\n",
      "[CV] END criterion=gini, max_depth=20, max_features=log2, min_samples_leaf=2, min_samples_split=15, n_estimators=670; total time=   7.7s\n",
      "[CV] END criterion=gini, max_depth=20, max_features=log2, min_samples_leaf=2, min_samples_split=15, n_estimators=670; total time=   7.6s\n",
      "[CV] END criterion=gini, max_depth=20, max_features=log2, min_samples_leaf=2, min_samples_split=15, n_estimators=670; total time=   7.8s\n",
      "[CV] END criterion=gini, max_depth=25, max_features=log2, min_samples_leaf=6, min_samples_split=20, n_estimators=1000; total time=  11.0s\n",
      "[CV] END criterion=gini, max_depth=25, max_features=log2, min_samples_leaf=6, min_samples_split=20, n_estimators=1000; total time=  11.6s\n",
      "[CV] END criterion=gini, max_depth=25, max_features=log2, min_samples_leaf=6, min_samples_split=20, n_estimators=1000; total time=  12.1s\n",
      "[CV] END criterion=gini, max_depth=25, max_features=log2, min_samples_leaf=6, min_samples_split=20, n_estimators=1000; total time=  11.3s\n",
      "[CV] END criterion=gini, max_depth=25, max_features=log2, min_samples_leaf=6, min_samples_split=20, n_estimators=1000; total time=  11.0s\n",
      "[CV] END criterion=entropy, max_depth=5, max_features=auto, min_samples_leaf=2, min_samples_split=17, n_estimators=120; total time=   0.9s\n",
      "[CV] END criterion=entropy, max_depth=5, max_features=auto, min_samples_leaf=2, min_samples_split=17, n_estimators=120; total time=   0.9s\n",
      "[CV] END criterion=entropy, max_depth=5, max_features=auto, min_samples_leaf=2, min_samples_split=17, n_estimators=120; total time=   0.9s\n",
      "[CV] END criterion=entropy, max_depth=5, max_features=auto, min_samples_leaf=2, min_samples_split=17, n_estimators=120; total time=   1.0s\n",
      "[CV] END criterion=entropy, max_depth=5, max_features=auto, min_samples_leaf=2, min_samples_split=17, n_estimators=120; total time=   1.0s\n",
      "[CV] END criterion=gini, max_depth=20, max_features=log2, min_samples_leaf=2, min_samples_split=10, n_estimators=560; total time=   6.3s\n",
      "[CV] END criterion=gini, max_depth=20, max_features=log2, min_samples_leaf=2, min_samples_split=10, n_estimators=560; total time=   6.3s\n",
      "[CV] END criterion=gini, max_depth=20, max_features=log2, min_samples_leaf=2, min_samples_split=10, n_estimators=560; total time=   6.5s\n",
      "[CV] END criterion=gini, max_depth=20, max_features=log2, min_samples_leaf=2, min_samples_split=10, n_estimators=560; total time=   6.9s\n",
      "[CV] END criterion=gini, max_depth=20, max_features=log2, min_samples_leaf=2, min_samples_split=10, n_estimators=560; total time=   6.6s\n",
      "[CV] END criterion=entropy, max_depth=30, max_features=log2, min_samples_leaf=4, min_samples_split=17, n_estimators=450; total time=   5.1s\n",
      "[CV] END criterion=entropy, max_depth=30, max_features=log2, min_samples_leaf=4, min_samples_split=17, n_estimators=450; total time=   5.1s\n",
      "[CV] END criterion=entropy, max_depth=30, max_features=log2, min_samples_leaf=4, min_samples_split=17, n_estimators=450; total time=   5.4s\n",
      "[CV] END criterion=entropy, max_depth=30, max_features=log2, min_samples_leaf=4, min_samples_split=17, n_estimators=450; total time=   5.3s\n",
      "[CV] END criterion=entropy, max_depth=30, max_features=log2, min_samples_leaf=4, min_samples_split=17, n_estimators=450; total time=   5.2s\n",
      "[CV] END criterion=gini, max_depth=10, max_features=sqrt, min_samples_leaf=8, min_samples_split=17, n_estimators=780; total time=   8.2s\n",
      "[CV] END criterion=gini, max_depth=10, max_features=sqrt, min_samples_leaf=8, min_samples_split=17, n_estimators=780; total time=   8.1s\n",
      "[CV] END criterion=gini, max_depth=10, max_features=sqrt, min_samples_leaf=8, min_samples_split=17, n_estimators=780; total time=   8.2s\n",
      "[CV] END criterion=gini, max_depth=10, max_features=sqrt, min_samples_leaf=8, min_samples_split=17, n_estimators=780; total time=   8.6s\n",
      "[CV] END criterion=gini, max_depth=10, max_features=sqrt, min_samples_leaf=8, min_samples_split=17, n_estimators=780; total time=   8.3s\n",
      "[CV] END criterion=gini, max_depth=10, max_features=log2, min_samples_leaf=2, min_samples_split=20, n_estimators=340; total time=   3.5s\n",
      "[CV] END criterion=gini, max_depth=10, max_features=log2, min_samples_leaf=2, min_samples_split=20, n_estimators=340; total time=   3.5s\n",
      "[CV] END criterion=gini, max_depth=10, max_features=log2, min_samples_leaf=2, min_samples_split=20, n_estimators=340; total time=   3.7s\n",
      "[CV] END criterion=gini, max_depth=10, max_features=log2, min_samples_leaf=2, min_samples_split=20, n_estimators=340; total time=   3.6s\n",
      "[CV] END criterion=gini, max_depth=10, max_features=log2, min_samples_leaf=2, min_samples_split=20, n_estimators=340; total time=   3.5s\n",
      "[CV] END criterion=gini, max_depth=25, max_features=log2, min_samples_leaf=4, min_samples_split=17, n_estimators=1000; total time=  11.2s\n",
      "[CV] END criterion=gini, max_depth=25, max_features=log2, min_samples_leaf=4, min_samples_split=17, n_estimators=1000; total time=  11.1s\n",
      "[CV] END criterion=gini, max_depth=25, max_features=log2, min_samples_leaf=4, min_samples_split=17, n_estimators=1000; total time=  11.4s\n",
      "[CV] END criterion=gini, max_depth=25, max_features=log2, min_samples_leaf=4, min_samples_split=17, n_estimators=1000; total time=  12.0s\n",
      "[CV] END criterion=gini, max_depth=25, max_features=log2, min_samples_leaf=4, min_samples_split=17, n_estimators=1000; total time=  13.2s\n",
      "[CV] END criterion=gini, max_depth=25, max_features=sqrt, min_samples_leaf=6, min_samples_split=17, n_estimators=890; total time=  11.2s\n",
      "[CV] END criterion=gini, max_depth=25, max_features=sqrt, min_samples_leaf=6, min_samples_split=17, n_estimators=890; total time=   9.9s\n",
      "[CV] END criterion=gini, max_depth=25, max_features=sqrt, min_samples_leaf=6, min_samples_split=17, n_estimators=890; total time=  10.4s\n",
      "[CV] END criterion=gini, max_depth=25, max_features=sqrt, min_samples_leaf=6, min_samples_split=17, n_estimators=890; total time=  10.1s\n",
      "[CV] END criterion=gini, max_depth=25, max_features=sqrt, min_samples_leaf=6, min_samples_split=17, n_estimators=890; total time=  10.6s\n",
      "[CV] END criterion=entropy, max_depth=5, max_features=log2, min_samples_leaf=4, min_samples_split=20, n_estimators=780; total time=   6.2s\n",
      "[CV] END criterion=entropy, max_depth=5, max_features=log2, min_samples_leaf=4, min_samples_split=20, n_estimators=780; total time=   6.5s\n",
      "[CV] END criterion=entropy, max_depth=5, max_features=log2, min_samples_leaf=4, min_samples_split=20, n_estimators=780; total time=   6.3s\n",
      "[CV] END criterion=entropy, max_depth=5, max_features=log2, min_samples_leaf=4, min_samples_split=20, n_estimators=780; total time=   6.8s\n",
      "[CV] END criterion=entropy, max_depth=5, max_features=log2, min_samples_leaf=4, min_samples_split=20, n_estimators=780; total time=   6.3s\n",
      "[CV] END criterion=gini, max_depth=30, max_features=auto, min_samples_leaf=6, min_samples_split=15, n_estimators=560; total time=   7.2s\n",
      "[CV] END criterion=gini, max_depth=30, max_features=auto, min_samples_leaf=6, min_samples_split=15, n_estimators=560; total time=   6.3s\n",
      "[CV] END criterion=gini, max_depth=30, max_features=auto, min_samples_leaf=6, min_samples_split=15, n_estimators=560; total time=   6.7s\n",
      "[CV] END criterion=gini, max_depth=30, max_features=auto, min_samples_leaf=6, min_samples_split=15, n_estimators=560; total time=   7.8s\n",
      "[CV] END criterion=gini, max_depth=30, max_features=auto, min_samples_leaf=6, min_samples_split=15, n_estimators=560; total time=   6.1s\n",
      "[CV] END criterion=gini, max_depth=25, max_features=auto, min_samples_leaf=6, min_samples_split=20, n_estimators=340; total time=   3.7s\n",
      "[CV] END criterion=gini, max_depth=25, max_features=auto, min_samples_leaf=6, min_samples_split=20, n_estimators=340; total time=   3.7s\n",
      "[CV] END criterion=gini, max_depth=25, max_features=auto, min_samples_leaf=6, min_samples_split=20, n_estimators=340; total time=   3.7s\n",
      "[CV] END criterion=gini, max_depth=25, max_features=auto, min_samples_leaf=6, min_samples_split=20, n_estimators=340; total time=   3.7s\n",
      "[CV] END criterion=gini, max_depth=25, max_features=auto, min_samples_leaf=6, min_samples_split=20, n_estimators=340; total time=   3.8s\n"
     ]
    },
    {
     "name": "stdout",
     "output_type": "stream",
     "text": [
      "[CV] END criterion=entropy, max_depth=25, max_features=sqrt, min_samples_leaf=6, min_samples_split=20, n_estimators=230; total time=   2.7s\n",
      "[CV] END criterion=entropy, max_depth=25, max_features=sqrt, min_samples_leaf=6, min_samples_split=20, n_estimators=230; total time=   2.8s\n",
      "[CV] END criterion=entropy, max_depth=25, max_features=sqrt, min_samples_leaf=6, min_samples_split=20, n_estimators=230; total time=   2.5s\n",
      "[CV] END criterion=entropy, max_depth=25, max_features=sqrt, min_samples_leaf=6, min_samples_split=20, n_estimators=230; total time=   2.5s\n",
      "[CV] END criterion=entropy, max_depth=25, max_features=sqrt, min_samples_leaf=6, min_samples_split=20, n_estimators=230; total time=   2.5s\n",
      "[CV] END criterion=gini, max_depth=25, max_features=auto, min_samples_leaf=6, min_samples_split=20, n_estimators=450; total time=   5.0s\n",
      "[CV] END criterion=gini, max_depth=25, max_features=auto, min_samples_leaf=6, min_samples_split=20, n_estimators=450; total time=   4.8s\n",
      "[CV] END criterion=gini, max_depth=25, max_features=auto, min_samples_leaf=6, min_samples_split=20, n_estimators=450; total time=   4.9s\n",
      "[CV] END criterion=gini, max_depth=25, max_features=auto, min_samples_leaf=6, min_samples_split=20, n_estimators=450; total time=   5.4s\n",
      "[CV] END criterion=gini, max_depth=25, max_features=auto, min_samples_leaf=6, min_samples_split=20, n_estimators=450; total time=   5.1s\n",
      "[CV] END criterion=gini, max_depth=10, max_features=auto, min_samples_leaf=2, min_samples_split=17, n_estimators=230; total time=   2.4s\n",
      "[CV] END criterion=gini, max_depth=10, max_features=auto, min_samples_leaf=2, min_samples_split=17, n_estimators=230; total time=   2.4s\n",
      "[CV] END criterion=gini, max_depth=10, max_features=auto, min_samples_leaf=2, min_samples_split=17, n_estimators=230; total time=   2.3s\n",
      "[CV] END criterion=gini, max_depth=10, max_features=auto, min_samples_leaf=2, min_samples_split=17, n_estimators=230; total time=   2.5s\n",
      "[CV] END criterion=gini, max_depth=10, max_features=auto, min_samples_leaf=2, min_samples_split=17, n_estimators=230; total time=   2.4s\n",
      "[CV] END criterion=entropy, max_depth=25, max_features=auto, min_samples_leaf=4, min_samples_split=15, n_estimators=670; total time=   7.7s\n",
      "[CV] END criterion=entropy, max_depth=25, max_features=auto, min_samples_leaf=4, min_samples_split=15, n_estimators=670; total time=   7.8s\n",
      "[CV] END criterion=entropy, max_depth=25, max_features=auto, min_samples_leaf=4, min_samples_split=15, n_estimators=670; total time=   7.7s\n",
      "[CV] END criterion=entropy, max_depth=25, max_features=auto, min_samples_leaf=4, min_samples_split=15, n_estimators=670; total time=   9.2s\n",
      "[CV] END criterion=entropy, max_depth=25, max_features=auto, min_samples_leaf=4, min_samples_split=15, n_estimators=670; total time=   9.9s\n",
      "[CV] END criterion=entropy, max_depth=10, max_features=sqrt, min_samples_leaf=8, min_samples_split=5, n_estimators=230; total time=   3.0s\n",
      "[CV] END criterion=entropy, max_depth=10, max_features=sqrt, min_samples_leaf=8, min_samples_split=5, n_estimators=230; total time=   3.0s\n",
      "[CV] END criterion=entropy, max_depth=10, max_features=sqrt, min_samples_leaf=8, min_samples_split=5, n_estimators=230; total time=   2.7s\n",
      "[CV] END criterion=entropy, max_depth=10, max_features=sqrt, min_samples_leaf=8, min_samples_split=5, n_estimators=230; total time=   2.7s\n",
      "[CV] END criterion=entropy, max_depth=10, max_features=sqrt, min_samples_leaf=8, min_samples_split=5, n_estimators=230; total time=   3.0s\n",
      "[CV] END criterion=gini, max_depth=20, max_features=sqrt, min_samples_leaf=6, min_samples_split=15, n_estimators=450; total time=   5.8s\n",
      "[CV] END criterion=gini, max_depth=20, max_features=sqrt, min_samples_leaf=6, min_samples_split=15, n_estimators=450; total time=   5.0s\n",
      "[CV] END criterion=gini, max_depth=20, max_features=sqrt, min_samples_leaf=6, min_samples_split=15, n_estimators=450; total time=   5.0s\n",
      "[CV] END criterion=gini, max_depth=20, max_features=sqrt, min_samples_leaf=6, min_samples_split=15, n_estimators=450; total time=   5.4s\n",
      "[CV] END criterion=gini, max_depth=20, max_features=sqrt, min_samples_leaf=6, min_samples_split=15, n_estimators=450; total time=   4.9s\n",
      "[CV] END criterion=entropy, max_depth=20, max_features=auto, min_samples_leaf=8, min_samples_split=10, n_estimators=120; total time=   1.3s\n",
      "[CV] END criterion=entropy, max_depth=20, max_features=auto, min_samples_leaf=8, min_samples_split=10, n_estimators=120; total time=   1.3s\n",
      "[CV] END criterion=entropy, max_depth=20, max_features=auto, min_samples_leaf=8, min_samples_split=10, n_estimators=120; total time=   1.3s\n",
      "[CV] END criterion=entropy, max_depth=20, max_features=auto, min_samples_leaf=8, min_samples_split=10, n_estimators=120; total time=   1.3s\n",
      "[CV] END criterion=entropy, max_depth=20, max_features=auto, min_samples_leaf=8, min_samples_split=10, n_estimators=120; total time=   1.5s\n",
      "[CV] END criterion=gini, max_depth=25, max_features=log2, min_samples_leaf=8, min_samples_split=17, n_estimators=780; total time=  10.3s\n",
      "[CV] END criterion=gini, max_depth=25, max_features=log2, min_samples_leaf=8, min_samples_split=17, n_estimators=780; total time=  10.1s\n",
      "[CV] END criterion=gini, max_depth=25, max_features=log2, min_samples_leaf=8, min_samples_split=17, n_estimators=780; total time=   9.4s\n",
      "[CV] END criterion=gini, max_depth=25, max_features=log2, min_samples_leaf=8, min_samples_split=17, n_estimators=780; total time=   9.5s\n",
      "[CV] END criterion=gini, max_depth=25, max_features=log2, min_samples_leaf=8, min_samples_split=17, n_estimators=780; total time=   9.4s\n",
      "[CV] END criterion=gini, max_depth=20, max_features=log2, min_samples_leaf=6, min_samples_split=17, n_estimators=560; total time=   6.7s\n",
      "[CV] END criterion=gini, max_depth=20, max_features=log2, min_samples_leaf=6, min_samples_split=17, n_estimators=560; total time=   6.1s\n",
      "[CV] END criterion=gini, max_depth=20, max_features=log2, min_samples_leaf=6, min_samples_split=17, n_estimators=560; total time=   6.4s\n",
      "[CV] END criterion=gini, max_depth=20, max_features=log2, min_samples_leaf=6, min_samples_split=17, n_estimators=560; total time=   6.2s\n",
      "[CV] END criterion=gini, max_depth=20, max_features=log2, min_samples_leaf=6, min_samples_split=17, n_estimators=560; total time=   6.7s\n",
      "[CV] END criterion=gini, max_depth=20, max_features=sqrt, min_samples_leaf=8, min_samples_split=15, n_estimators=780; total time=  10.3s\n",
      "[CV] END criterion=gini, max_depth=20, max_features=sqrt, min_samples_leaf=8, min_samples_split=15, n_estimators=780; total time=   9.1s\n",
      "[CV] END criterion=gini, max_depth=20, max_features=sqrt, min_samples_leaf=8, min_samples_split=15, n_estimators=780; total time=   9.0s\n",
      "[CV] END criterion=gini, max_depth=20, max_features=sqrt, min_samples_leaf=8, min_samples_split=15, n_estimators=780; total time=   9.3s\n",
      "[CV] END criterion=gini, max_depth=20, max_features=sqrt, min_samples_leaf=8, min_samples_split=15, n_estimators=780; total time=   8.8s\n",
      "[CV] END criterion=entropy, max_depth=30, max_features=log2, min_samples_leaf=6, min_samples_split=17, n_estimators=10; total time=   0.0s\n",
      "[CV] END criterion=entropy, max_depth=30, max_features=log2, min_samples_leaf=6, min_samples_split=17, n_estimators=10; total time=   0.0s\n",
      "[CV] END criterion=entropy, max_depth=30, max_features=log2, min_samples_leaf=6, min_samples_split=17, n_estimators=10; total time=   0.0s\n",
      "[CV] END criterion=entropy, max_depth=30, max_features=log2, min_samples_leaf=6, min_samples_split=17, n_estimators=10; total time=   0.0s\n",
      "[CV] END criterion=entropy, max_depth=30, max_features=log2, min_samples_leaf=6, min_samples_split=17, n_estimators=10; total time=   0.0s\n",
      "[CV] END criterion=gini, max_depth=25, max_features=auto, min_samples_leaf=2, min_samples_split=10, n_estimators=560; total time=   6.4s\n",
      "[CV] END criterion=gini, max_depth=25, max_features=auto, min_samples_leaf=2, min_samples_split=10, n_estimators=560; total time=   6.4s\n",
      "[CV] END criterion=gini, max_depth=25, max_features=auto, min_samples_leaf=2, min_samples_split=10, n_estimators=560; total time=   7.0s\n",
      "[CV] END criterion=gini, max_depth=25, max_features=auto, min_samples_leaf=2, min_samples_split=10, n_estimators=560; total time=   7.9s\n",
      "[CV] END criterion=gini, max_depth=25, max_features=auto, min_samples_leaf=2, min_samples_split=10, n_estimators=560; total time=   7.8s\n"
     ]
    },
    {
     "name": "stdout",
     "output_type": "stream",
     "text": [
      "[CV] END criterion=gini, max_depth=10, max_features=log2, min_samples_leaf=2, min_samples_split=15, n_estimators=560; total time=   6.7s\n",
      "[CV] END criterion=gini, max_depth=10, max_features=log2, min_samples_leaf=2, min_samples_split=15, n_estimators=560; total time=   6.8s\n",
      "[CV] END criterion=gini, max_depth=10, max_features=log2, min_samples_leaf=2, min_samples_split=15, n_estimators=560; total time=   6.3s\n",
      "[CV] END criterion=gini, max_depth=10, max_features=log2, min_samples_leaf=2, min_samples_split=15, n_estimators=560; total time=   6.4s\n",
      "[CV] END criterion=gini, max_depth=10, max_features=log2, min_samples_leaf=2, min_samples_split=15, n_estimators=560; total time=   6.3s\n",
      "[CV] END criterion=gini, max_depth=5, max_features=auto, min_samples_leaf=6, min_samples_split=20, n_estimators=230; total time=   1.7s\n",
      "[CV] END criterion=gini, max_depth=5, max_features=auto, min_samples_leaf=6, min_samples_split=20, n_estimators=230; total time=   1.7s\n",
      "[CV] END criterion=gini, max_depth=5, max_features=auto, min_samples_leaf=6, min_samples_split=20, n_estimators=230; total time=   1.8s\n",
      "[CV] END criterion=gini, max_depth=5, max_features=auto, min_samples_leaf=6, min_samples_split=20, n_estimators=230; total time=   1.9s\n",
      "[CV] END criterion=gini, max_depth=5, max_features=auto, min_samples_leaf=6, min_samples_split=20, n_estimators=230; total time=   1.9s\n",
      "[CV] END criterion=gini, max_depth=25, max_features=sqrt, min_samples_leaf=4, min_samples_split=17, n_estimators=780; total time=   9.4s\n",
      "[CV] END criterion=gini, max_depth=25, max_features=sqrt, min_samples_leaf=4, min_samples_split=17, n_estimators=780; total time=   9.7s\n",
      "[CV] END criterion=gini, max_depth=25, max_features=sqrt, min_samples_leaf=4, min_samples_split=17, n_estimators=780; total time=   9.1s\n",
      "[CV] END criterion=gini, max_depth=25, max_features=sqrt, min_samples_leaf=4, min_samples_split=17, n_estimators=780; total time=   9.0s\n",
      "[CV] END criterion=gini, max_depth=25, max_features=sqrt, min_samples_leaf=4, min_samples_split=17, n_estimators=780; total time=   9.0s\n",
      "[CV] END criterion=entropy, max_depth=20, max_features=auto, min_samples_leaf=4, min_samples_split=5, n_estimators=340; total time=   4.4s\n",
      "[CV] END criterion=entropy, max_depth=20, max_features=auto, min_samples_leaf=4, min_samples_split=5, n_estimators=340; total time=   4.2s\n",
      "[CV] END criterion=entropy, max_depth=20, max_features=auto, min_samples_leaf=4, min_samples_split=5, n_estimators=340; total time=   4.7s\n",
      "[CV] END criterion=entropy, max_depth=20, max_features=auto, min_samples_leaf=4, min_samples_split=5, n_estimators=340; total time=   5.5s\n",
      "[CV] END criterion=entropy, max_depth=20, max_features=auto, min_samples_leaf=4, min_samples_split=5, n_estimators=340; total time=   6.9s\n",
      "[CV] END criterion=entropy, max_depth=5, max_features=auto, min_samples_leaf=4, min_samples_split=5, n_estimators=890; total time=   8.6s\n",
      "[CV] END criterion=entropy, max_depth=5, max_features=auto, min_samples_leaf=4, min_samples_split=5, n_estimators=890; total time=  11.4s\n",
      "[CV] END criterion=entropy, max_depth=5, max_features=auto, min_samples_leaf=4, min_samples_split=5, n_estimators=890; total time=   9.3s\n",
      "[CV] END criterion=entropy, max_depth=5, max_features=auto, min_samples_leaf=4, min_samples_split=5, n_estimators=890; total time=   7.6s\n",
      "[CV] END criterion=entropy, max_depth=5, max_features=auto, min_samples_leaf=4, min_samples_split=5, n_estimators=890; total time=   7.6s\n",
      "[CV] END criterion=gini, max_depth=30, max_features=log2, min_samples_leaf=6, min_samples_split=17, n_estimators=890; total time=  10.8s\n",
      "[CV] END criterion=gini, max_depth=30, max_features=log2, min_samples_leaf=6, min_samples_split=17, n_estimators=890; total time=  13.6s\n",
      "[CV] END criterion=gini, max_depth=30, max_features=log2, min_samples_leaf=6, min_samples_split=17, n_estimators=890; total time=  13.2s\n",
      "[CV] END criterion=gini, max_depth=30, max_features=log2, min_samples_leaf=6, min_samples_split=17, n_estimators=890; total time=  11.9s\n",
      "[CV] END criterion=gini, max_depth=30, max_features=log2, min_samples_leaf=6, min_samples_split=17, n_estimators=890; total time=  11.9s\n",
      "[CV] END criterion=entropy, max_depth=10, max_features=sqrt, min_samples_leaf=4, min_samples_split=20, n_estimators=230; total time=   2.5s\n",
      "[CV] END criterion=entropy, max_depth=10, max_features=sqrt, min_samples_leaf=4, min_samples_split=20, n_estimators=230; total time=   2.8s\n",
      "[CV] END criterion=entropy, max_depth=10, max_features=sqrt, min_samples_leaf=4, min_samples_split=20, n_estimators=230; total time=   2.7s\n",
      "[CV] END criterion=entropy, max_depth=10, max_features=sqrt, min_samples_leaf=4, min_samples_split=20, n_estimators=230; total time=   3.4s\n",
      "[CV] END criterion=entropy, max_depth=10, max_features=sqrt, min_samples_leaf=4, min_samples_split=20, n_estimators=230; total time=   3.7s\n",
      "[CV] END criterion=entropy, max_depth=5, max_features=log2, min_samples_leaf=4, min_samples_split=5, n_estimators=10; total time=   0.0s\n",
      "[CV] END criterion=entropy, max_depth=5, max_features=log2, min_samples_leaf=4, min_samples_split=5, n_estimators=10; total time=   0.0s\n",
      "[CV] END criterion=entropy, max_depth=5, max_features=log2, min_samples_leaf=4, min_samples_split=5, n_estimators=10; total time=   0.0s\n",
      "[CV] END criterion=entropy, max_depth=5, max_features=log2, min_samples_leaf=4, min_samples_split=5, n_estimators=10; total time=   0.0s\n",
      "[CV] END criterion=entropy, max_depth=5, max_features=log2, min_samples_leaf=4, min_samples_split=5, n_estimators=10; total time=   0.0s\n",
      "[CV] END criterion=gini, max_depth=30, max_features=auto, min_samples_leaf=6, min_samples_split=15, n_estimators=890; total time=  11.7s\n",
      "[CV] END criterion=gini, max_depth=30, max_features=auto, min_samples_leaf=6, min_samples_split=15, n_estimators=890; total time=  11.9s\n",
      "[CV] END criterion=gini, max_depth=30, max_features=auto, min_samples_leaf=6, min_samples_split=15, n_estimators=890; total time=  13.4s\n",
      "[CV] END criterion=gini, max_depth=30, max_features=auto, min_samples_leaf=6, min_samples_split=15, n_estimators=890; total time=  11.2s\n",
      "[CV] END criterion=gini, max_depth=30, max_features=auto, min_samples_leaf=6, min_samples_split=15, n_estimators=890; total time=  12.0s\n",
      "[CV] END criterion=entropy, max_depth=15, max_features=sqrt, min_samples_leaf=6, min_samples_split=10, n_estimators=890; total time=  13.8s\n",
      "[CV] END criterion=entropy, max_depth=15, max_features=sqrt, min_samples_leaf=6, min_samples_split=10, n_estimators=890; total time=  14.0s\n",
      "[CV] END criterion=entropy, max_depth=15, max_features=sqrt, min_samples_leaf=6, min_samples_split=10, n_estimators=890; total time=  11.0s\n",
      "[CV] END criterion=entropy, max_depth=15, max_features=sqrt, min_samples_leaf=6, min_samples_split=10, n_estimators=890; total time=  11.2s\n",
      "[CV] END criterion=entropy, max_depth=15, max_features=sqrt, min_samples_leaf=6, min_samples_split=10, n_estimators=890; total time=  11.2s\n",
      "[CV] END criterion=entropy, max_depth=10, max_features=auto, min_samples_leaf=8, min_samples_split=15, n_estimators=890; total time=  10.6s\n",
      "[CV] END criterion=entropy, max_depth=10, max_features=auto, min_samples_leaf=8, min_samples_split=15, n_estimators=890; total time=  10.1s\n",
      "[CV] END criterion=entropy, max_depth=10, max_features=auto, min_samples_leaf=8, min_samples_split=15, n_estimators=890; total time=  10.3s\n",
      "[CV] END criterion=entropy, max_depth=10, max_features=auto, min_samples_leaf=8, min_samples_split=15, n_estimators=890; total time=  10.8s\n",
      "[CV] END criterion=entropy, max_depth=10, max_features=auto, min_samples_leaf=8, min_samples_split=15, n_estimators=890; total time=  10.0s\n",
      "[CV] END criterion=gini, max_depth=25, max_features=log2, min_samples_leaf=4, min_samples_split=17, n_estimators=10; total time=   0.0s\n",
      "[CV] END criterion=gini, max_depth=25, max_features=log2, min_samples_leaf=4, min_samples_split=17, n_estimators=10; total time=   0.0s\n",
      "[CV] END criterion=gini, max_depth=25, max_features=log2, min_samples_leaf=4, min_samples_split=17, n_estimators=10; total time=   0.0s\n",
      "[CV] END criterion=gini, max_depth=25, max_features=log2, min_samples_leaf=4, min_samples_split=17, n_estimators=10; total time=   0.0s\n",
      "[CV] END criterion=gini, max_depth=25, max_features=log2, min_samples_leaf=4, min_samples_split=17, n_estimators=10; total time=   0.0s\n"
     ]
    },
    {
     "name": "stdout",
     "output_type": "stream",
     "text": [
      "[CV] END criterion=gini, max_depth=25, max_features=sqrt, min_samples_leaf=4, min_samples_split=17, n_estimators=1000; total time=  11.4s\n",
      "[CV] END criterion=gini, max_depth=25, max_features=sqrt, min_samples_leaf=4, min_samples_split=17, n_estimators=1000; total time=  11.8s\n",
      "[CV] END criterion=gini, max_depth=25, max_features=sqrt, min_samples_leaf=4, min_samples_split=17, n_estimators=1000; total time=  12.9s\n",
      "[CV] END criterion=gini, max_depth=25, max_features=sqrt, min_samples_leaf=4, min_samples_split=17, n_estimators=1000; total time=  13.8s\n",
      "[CV] END criterion=gini, max_depth=25, max_features=sqrt, min_samples_leaf=4, min_samples_split=17, n_estimators=1000; total time=  12.7s\n",
      "[CV] END criterion=entropy, max_depth=5, max_features=log2, min_samples_leaf=4, min_samples_split=15, n_estimators=560; total time=   4.8s\n",
      "[CV] END criterion=entropy, max_depth=5, max_features=log2, min_samples_leaf=4, min_samples_split=15, n_estimators=560; total time=   4.4s\n",
      "[CV] END criterion=entropy, max_depth=5, max_features=log2, min_samples_leaf=4, min_samples_split=15, n_estimators=560; total time=   4.4s\n",
      "[CV] END criterion=entropy, max_depth=5, max_features=log2, min_samples_leaf=4, min_samples_split=15, n_estimators=560; total time=   5.4s\n",
      "[CV] END criterion=entropy, max_depth=5, max_features=log2, min_samples_leaf=4, min_samples_split=15, n_estimators=560; total time=   5.8s\n",
      "[CV] END criterion=gini, max_depth=10, max_features=log2, min_samples_leaf=2, min_samples_split=17, n_estimators=120; total time=   1.5s\n",
      "[CV] END criterion=gini, max_depth=10, max_features=log2, min_samples_leaf=2, min_samples_split=17, n_estimators=120; total time=   1.7s\n",
      "[CV] END criterion=gini, max_depth=10, max_features=log2, min_samples_leaf=2, min_samples_split=17, n_estimators=120; total time=   1.4s\n",
      "[CV] END criterion=gini, max_depth=10, max_features=log2, min_samples_leaf=2, min_samples_split=17, n_estimators=120; total time=   1.6s\n",
      "[CV] END criterion=gini, max_depth=10, max_features=log2, min_samples_leaf=2, min_samples_split=17, n_estimators=120; total time=   1.7s\n",
      "[CV] END criterion=entropy, max_depth=20, max_features=log2, min_samples_leaf=4, min_samples_split=10, n_estimators=560; total time=   9.4s\n",
      "[CV] END criterion=entropy, max_depth=20, max_features=log2, min_samples_leaf=4, min_samples_split=10, n_estimators=560; total time=  10.1s\n",
      "[CV] END criterion=entropy, max_depth=20, max_features=log2, min_samples_leaf=4, min_samples_split=10, n_estimators=560; total time=   6.7s\n",
      "[CV] END criterion=entropy, max_depth=20, max_features=log2, min_samples_leaf=4, min_samples_split=10, n_estimators=560; total time=   6.8s\n",
      "[CV] END criterion=entropy, max_depth=20, max_features=log2, min_samples_leaf=4, min_samples_split=10, n_estimators=560; total time=   6.5s\n",
      "[CV] END criterion=entropy, max_depth=25, max_features=sqrt, min_samples_leaf=4, min_samples_split=5, n_estimators=670; total time=   8.0s\n",
      "[CV] END criterion=entropy, max_depth=25, max_features=sqrt, min_samples_leaf=4, min_samples_split=5, n_estimators=670; total time=   8.5s\n",
      "[CV] END criterion=entropy, max_depth=25, max_features=sqrt, min_samples_leaf=4, min_samples_split=5, n_estimators=670; total time=   8.5s\n",
      "[CV] END criterion=entropy, max_depth=25, max_features=sqrt, min_samples_leaf=4, min_samples_split=5, n_estimators=670; total time=   8.3s\n",
      "[CV] END criterion=entropy, max_depth=25, max_features=sqrt, min_samples_leaf=4, min_samples_split=5, n_estimators=670; total time=   8.6s\n",
      "[CV] END criterion=gini, max_depth=25, max_features=auto, min_samples_leaf=2, min_samples_split=10, n_estimators=890; total time=  10.4s\n",
      "[CV] END criterion=gini, max_depth=25, max_features=auto, min_samples_leaf=2, min_samples_split=10, n_estimators=890; total time=  10.4s\n",
      "[CV] END criterion=gini, max_depth=25, max_features=auto, min_samples_leaf=2, min_samples_split=10, n_estimators=890; total time=  10.4s\n",
      "[CV] END criterion=gini, max_depth=25, max_features=auto, min_samples_leaf=2, min_samples_split=10, n_estimators=890; total time=  10.5s\n",
      "[CV] END criterion=gini, max_depth=25, max_features=auto, min_samples_leaf=2, min_samples_split=10, n_estimators=890; total time=  10.4s\n",
      "[CV] END criterion=entropy, max_depth=25, max_features=auto, min_samples_leaf=2, min_samples_split=5, n_estimators=450; total time=   5.7s\n",
      "[CV] END criterion=entropy, max_depth=25, max_features=auto, min_samples_leaf=2, min_samples_split=5, n_estimators=450; total time=   5.9s\n",
      "[CV] END criterion=entropy, max_depth=25, max_features=auto, min_samples_leaf=2, min_samples_split=5, n_estimators=450; total time=   5.3s\n",
      "[CV] END criterion=entropy, max_depth=25, max_features=auto, min_samples_leaf=2, min_samples_split=5, n_estimators=450; total time=   5.9s\n",
      "[CV] END criterion=entropy, max_depth=25, max_features=auto, min_samples_leaf=2, min_samples_split=5, n_estimators=450; total time=   5.4s\n",
      "[CV] END criterion=gini, max_depth=5, max_features=log2, min_samples_leaf=6, min_samples_split=10, n_estimators=120; total time=   0.9s\n",
      "[CV] END criterion=gini, max_depth=5, max_features=log2, min_samples_leaf=6, min_samples_split=10, n_estimators=120; total time=   0.8s\n",
      "[CV] END criterion=gini, max_depth=5, max_features=log2, min_samples_leaf=6, min_samples_split=10, n_estimators=120; total time=   0.8s\n",
      "[CV] END criterion=gini, max_depth=5, max_features=log2, min_samples_leaf=6, min_samples_split=10, n_estimators=120; total time=   0.8s\n",
      "[CV] END criterion=gini, max_depth=5, max_features=log2, min_samples_leaf=6, min_samples_split=10, n_estimators=120; total time=   0.8s\n",
      "[CV] END criterion=entropy, max_depth=15, max_features=auto, min_samples_leaf=8, min_samples_split=20, n_estimators=890; total time=  13.1s\n",
      "[CV] END criterion=entropy, max_depth=15, max_features=auto, min_samples_leaf=8, min_samples_split=20, n_estimators=890; total time=  12.5s\n",
      "[CV] END criterion=entropy, max_depth=15, max_features=auto, min_samples_leaf=8, min_samples_split=20, n_estimators=890; total time=  12.1s\n",
      "[CV] END criterion=entropy, max_depth=15, max_features=auto, min_samples_leaf=8, min_samples_split=20, n_estimators=890; total time=  11.6s\n",
      "[CV] END criterion=entropy, max_depth=15, max_features=auto, min_samples_leaf=8, min_samples_split=20, n_estimators=890; total time=  11.5s\n",
      "[CV] END criterion=gini, max_depth=25, max_features=auto, min_samples_leaf=6, min_samples_split=10, n_estimators=10; total time=   0.1s\n",
      "[CV] END criterion=gini, max_depth=25, max_features=auto, min_samples_leaf=6, min_samples_split=10, n_estimators=10; total time=   0.1s\n",
      "[CV] END criterion=gini, max_depth=25, max_features=auto, min_samples_leaf=6, min_samples_split=10, n_estimators=10; total time=   0.1s\n",
      "[CV] END criterion=gini, max_depth=25, max_features=auto, min_samples_leaf=6, min_samples_split=10, n_estimators=10; total time=   0.0s\n",
      "[CV] END criterion=gini, max_depth=25, max_features=auto, min_samples_leaf=6, min_samples_split=10, n_estimators=10; total time=   0.0s\n",
      "[CV] END criterion=gini, max_depth=20, max_features=sqrt, min_samples_leaf=6, min_samples_split=10, n_estimators=890; total time=  11.1s\n",
      "[CV] END criterion=gini, max_depth=20, max_features=sqrt, min_samples_leaf=6, min_samples_split=10, n_estimators=890; total time=  10.1s\n",
      "[CV] END criterion=gini, max_depth=20, max_features=sqrt, min_samples_leaf=6, min_samples_split=10, n_estimators=890; total time=  10.3s\n",
      "[CV] END criterion=gini, max_depth=20, max_features=sqrt, min_samples_leaf=6, min_samples_split=10, n_estimators=890; total time=  10.7s\n",
      "[CV] END criterion=gini, max_depth=20, max_features=sqrt, min_samples_leaf=6, min_samples_split=10, n_estimators=890; total time=  10.3s\n",
      "[CV] END criterion=entropy, max_depth=20, max_features=auto, min_samples_leaf=4, min_samples_split=5, n_estimators=890; total time=  10.8s\n",
      "[CV] END criterion=entropy, max_depth=20, max_features=auto, min_samples_leaf=4, min_samples_split=5, n_estimators=890; total time=  11.1s\n",
      "[CV] END criterion=entropy, max_depth=20, max_features=auto, min_samples_leaf=4, min_samples_split=5, n_estimators=890; total time=  10.7s\n",
      "[CV] END criterion=entropy, max_depth=20, max_features=auto, min_samples_leaf=4, min_samples_split=5, n_estimators=890; total time=  10.8s\n",
      "[CV] END criterion=entropy, max_depth=20, max_features=auto, min_samples_leaf=4, min_samples_split=5, n_estimators=890; total time=  11.6s\n"
     ]
    },
    {
     "name": "stdout",
     "output_type": "stream",
     "text": [
      "[CV] END criterion=gini, max_depth=5, max_features=log2, min_samples_leaf=2, min_samples_split=20, n_estimators=560; total time=   4.4s\n",
      "[CV] END criterion=gini, max_depth=5, max_features=log2, min_samples_leaf=2, min_samples_split=20, n_estimators=560; total time=   4.3s\n",
      "[CV] END criterion=gini, max_depth=5, max_features=log2, min_samples_leaf=2, min_samples_split=20, n_estimators=560; total time=   4.5s\n",
      "[CV] END criterion=gini, max_depth=5, max_features=log2, min_samples_leaf=2, min_samples_split=20, n_estimators=560; total time=   4.3s\n",
      "[CV] END criterion=gini, max_depth=5, max_features=log2, min_samples_leaf=2, min_samples_split=20, n_estimators=560; total time=   4.8s\n",
      "[CV] END criterion=entropy, max_depth=15, max_features=sqrt, min_samples_leaf=2, min_samples_split=20, n_estimators=10; total time=   0.1s\n",
      "[CV] END criterion=entropy, max_depth=15, max_features=sqrt, min_samples_leaf=2, min_samples_split=20, n_estimators=10; total time=   0.0s\n",
      "[CV] END criterion=entropy, max_depth=15, max_features=sqrt, min_samples_leaf=2, min_samples_split=20, n_estimators=10; total time=   0.1s\n",
      "[CV] END criterion=entropy, max_depth=15, max_features=sqrt, min_samples_leaf=2, min_samples_split=20, n_estimators=10; total time=   0.0s\n",
      "[CV] END criterion=entropy, max_depth=15, max_features=sqrt, min_samples_leaf=2, min_samples_split=20, n_estimators=10; total time=   0.1s\n",
      "[CV] END criterion=gini, max_depth=15, max_features=log2, min_samples_leaf=2, min_samples_split=20, n_estimators=230; total time=   3.5s\n",
      "[CV] END criterion=gini, max_depth=15, max_features=log2, min_samples_leaf=2, min_samples_split=20, n_estimators=230; total time=   3.5s\n",
      "[CV] END criterion=gini, max_depth=15, max_features=log2, min_samples_leaf=2, min_samples_split=20, n_estimators=230; total time=   3.0s\n",
      "[CV] END criterion=gini, max_depth=15, max_features=log2, min_samples_leaf=2, min_samples_split=20, n_estimators=230; total time=   3.1s\n",
      "[CV] END criterion=gini, max_depth=15, max_features=log2, min_samples_leaf=2, min_samples_split=20, n_estimators=230; total time=   2.9s\n",
      "[CV] END criterion=gini, max_depth=10, max_features=auto, min_samples_leaf=8, min_samples_split=10, n_estimators=450; total time=   7.0s\n",
      "[CV] END criterion=gini, max_depth=10, max_features=auto, min_samples_leaf=8, min_samples_split=10, n_estimators=450; total time=   6.1s\n",
      "[CV] END criterion=gini, max_depth=10, max_features=auto, min_samples_leaf=8, min_samples_split=10, n_estimators=450; total time=   4.7s\n",
      "[CV] END criterion=gini, max_depth=10, max_features=auto, min_samples_leaf=8, min_samples_split=10, n_estimators=450; total time=   5.1s\n",
      "[CV] END criterion=gini, max_depth=10, max_features=auto, min_samples_leaf=8, min_samples_split=10, n_estimators=450; total time=   4.9s\n",
      "[CV] END criterion=gini, max_depth=25, max_features=log2, min_samples_leaf=4, min_samples_split=5, n_estimators=560; total time=   6.4s\n",
      "[CV] END criterion=gini, max_depth=25, max_features=log2, min_samples_leaf=4, min_samples_split=5, n_estimators=560; total time=   6.5s\n",
      "[CV] END criterion=gini, max_depth=25, max_features=log2, min_samples_leaf=4, min_samples_split=5, n_estimators=560; total time=   6.4s\n",
      "[CV] END criterion=gini, max_depth=25, max_features=log2, min_samples_leaf=4, min_samples_split=5, n_estimators=560; total time=   6.7s\n",
      "[CV] END criterion=gini, max_depth=25, max_features=log2, min_samples_leaf=4, min_samples_split=5, n_estimators=560; total time=   6.2s\n",
      "[CV] END criterion=entropy, max_depth=10, max_features=sqrt, min_samples_leaf=4, min_samples_split=5, n_estimators=780; total time=   8.8s\n",
      "[CV] END criterion=entropy, max_depth=10, max_features=sqrt, min_samples_leaf=4, min_samples_split=5, n_estimators=780; total time=   8.6s\n",
      "[CV] END criterion=entropy, max_depth=10, max_features=sqrt, min_samples_leaf=4, min_samples_split=5, n_estimators=780; total time=   9.9s\n",
      "[CV] END criterion=entropy, max_depth=10, max_features=sqrt, min_samples_leaf=4, min_samples_split=5, n_estimators=780; total time=   9.7s\n",
      "[CV] END criterion=entropy, max_depth=10, max_features=sqrt, min_samples_leaf=4, min_samples_split=5, n_estimators=780; total time=   9.9s\n",
      "[CV] END criterion=gini, max_depth=5, max_features=log2, min_samples_leaf=4, min_samples_split=10, n_estimators=560; total time=   4.7s\n",
      "[CV] END criterion=gini, max_depth=5, max_features=log2, min_samples_leaf=4, min_samples_split=10, n_estimators=560; total time=   6.6s\n",
      "[CV] END criterion=gini, max_depth=5, max_features=log2, min_samples_leaf=4, min_samples_split=10, n_estimators=560; total time=   4.9s\n",
      "[CV] END criterion=gini, max_depth=5, max_features=log2, min_samples_leaf=4, min_samples_split=10, n_estimators=560; total time=   5.5s\n",
      "[CV] END criterion=gini, max_depth=5, max_features=log2, min_samples_leaf=4, min_samples_split=10, n_estimators=560; total time=   6.4s\n",
      "[CV] END criterion=gini, max_depth=20, max_features=sqrt, min_samples_leaf=6, min_samples_split=20, n_estimators=120; total time=   1.3s\n",
      "[CV] END criterion=gini, max_depth=20, max_features=sqrt, min_samples_leaf=6, min_samples_split=20, n_estimators=120; total time=   1.6s\n",
      "[CV] END criterion=gini, max_depth=20, max_features=sqrt, min_samples_leaf=6, min_samples_split=20, n_estimators=120; total time=   1.6s\n",
      "[CV] END criterion=gini, max_depth=20, max_features=sqrt, min_samples_leaf=6, min_samples_split=20, n_estimators=120; total time=   1.4s\n",
      "[CV] END criterion=gini, max_depth=20, max_features=sqrt, min_samples_leaf=6, min_samples_split=20, n_estimators=120; total time=   1.4s\n",
      "[CV] END criterion=gini, max_depth=15, max_features=sqrt, min_samples_leaf=4, min_samples_split=20, n_estimators=890; total time=  11.7s\n",
      "[CV] END criterion=gini, max_depth=15, max_features=sqrt, min_samples_leaf=4, min_samples_split=20, n_estimators=890; total time=  11.3s\n",
      "[CV] END criterion=gini, max_depth=15, max_features=sqrt, min_samples_leaf=4, min_samples_split=20, n_estimators=890; total time=  11.3s\n",
      "[CV] END criterion=gini, max_depth=15, max_features=sqrt, min_samples_leaf=4, min_samples_split=20, n_estimators=890; total time=  11.4s\n",
      "[CV] END criterion=gini, max_depth=15, max_features=sqrt, min_samples_leaf=4, min_samples_split=20, n_estimators=890; total time=  11.3s\n",
      "[CV] END criterion=entropy, max_depth=15, max_features=sqrt, min_samples_leaf=4, min_samples_split=20, n_estimators=10; total time=   0.0s\n",
      "[CV] END criterion=entropy, max_depth=15, max_features=sqrt, min_samples_leaf=4, min_samples_split=20, n_estimators=10; total time=   0.0s\n",
      "[CV] END criterion=entropy, max_depth=15, max_features=sqrt, min_samples_leaf=4, min_samples_split=20, n_estimators=10; total time=   0.0s\n",
      "[CV] END criterion=entropy, max_depth=15, max_features=sqrt, min_samples_leaf=4, min_samples_split=20, n_estimators=10; total time=   0.0s\n",
      "[CV] END criterion=entropy, max_depth=15, max_features=sqrt, min_samples_leaf=4, min_samples_split=20, n_estimators=10; total time=   0.0s\n",
      "[CV] END criterion=gini, max_depth=15, max_features=auto, min_samples_leaf=6, min_samples_split=5, n_estimators=230; total time=   2.5s\n",
      "[CV] END criterion=gini, max_depth=15, max_features=auto, min_samples_leaf=6, min_samples_split=5, n_estimators=230; total time=   2.5s\n",
      "[CV] END criterion=gini, max_depth=15, max_features=auto, min_samples_leaf=6, min_samples_split=5, n_estimators=230; total time=   3.1s\n",
      "[CV] END criterion=gini, max_depth=15, max_features=auto, min_samples_leaf=6, min_samples_split=5, n_estimators=230; total time=   2.7s\n",
      "[CV] END criterion=gini, max_depth=15, max_features=auto, min_samples_leaf=6, min_samples_split=5, n_estimators=230; total time=   2.6s\n",
      "[CV] END criterion=gini, max_depth=15, max_features=log2, min_samples_leaf=4, min_samples_split=20, n_estimators=340; total time=   4.4s\n",
      "[CV] END criterion=gini, max_depth=15, max_features=log2, min_samples_leaf=4, min_samples_split=20, n_estimators=340; total time=   4.5s\n",
      "[CV] END criterion=gini, max_depth=15, max_features=log2, min_samples_leaf=4, min_samples_split=20, n_estimators=340; total time=   4.4s\n",
      "[CV] END criterion=gini, max_depth=15, max_features=log2, min_samples_leaf=4, min_samples_split=20, n_estimators=340; total time=   4.5s\n",
      "[CV] END criterion=gini, max_depth=15, max_features=log2, min_samples_leaf=4, min_samples_split=20, n_estimators=340; total time=   4.0s\n"
     ]
    },
    {
     "name": "stdout",
     "output_type": "stream",
     "text": [
      "[CV] END criterion=gini, max_depth=30, max_features=log2, min_samples_leaf=6, min_samples_split=20, n_estimators=450; total time=   6.5s\n",
      "[CV] END criterion=gini, max_depth=30, max_features=log2, min_samples_leaf=6, min_samples_split=20, n_estimators=450; total time=   5.4s\n",
      "[CV] END criterion=gini, max_depth=30, max_features=log2, min_samples_leaf=6, min_samples_split=20, n_estimators=450; total time=   4.9s\n",
      "[CV] END criterion=gini, max_depth=30, max_features=log2, min_samples_leaf=6, min_samples_split=20, n_estimators=450; total time=   5.2s\n",
      "[CV] END criterion=gini, max_depth=30, max_features=log2, min_samples_leaf=6, min_samples_split=20, n_estimators=450; total time=   5.0s\n",
      "[CV] END criterion=gini, max_depth=20, max_features=sqrt, min_samples_leaf=6, min_samples_split=15, n_estimators=780; total time=  11.9s\n",
      "[CV] END criterion=gini, max_depth=20, max_features=sqrt, min_samples_leaf=6, min_samples_split=15, n_estimators=780; total time=  11.2s\n",
      "[CV] END criterion=gini, max_depth=20, max_features=sqrt, min_samples_leaf=6, min_samples_split=15, n_estimators=780; total time=   9.5s\n",
      "[CV] END criterion=gini, max_depth=20, max_features=sqrt, min_samples_leaf=6, min_samples_split=15, n_estimators=780; total time=   9.9s\n",
      "[CV] END criterion=gini, max_depth=20, max_features=sqrt, min_samples_leaf=6, min_samples_split=15, n_estimators=780; total time=   9.3s\n",
      "[CV] END criterion=gini, max_depth=15, max_features=log2, min_samples_leaf=4, min_samples_split=5, n_estimators=230; total time=   2.9s\n",
      "[CV] END criterion=gini, max_depth=15, max_features=log2, min_samples_leaf=4, min_samples_split=5, n_estimators=230; total time=   2.8s\n",
      "[CV] END criterion=gini, max_depth=15, max_features=log2, min_samples_leaf=4, min_samples_split=5, n_estimators=230; total time=   2.7s\n",
      "[CV] END criterion=gini, max_depth=15, max_features=log2, min_samples_leaf=4, min_samples_split=5, n_estimators=230; total time=   2.9s\n",
      "[CV] END criterion=gini, max_depth=15, max_features=log2, min_samples_leaf=4, min_samples_split=5, n_estimators=230; total time=   2.8s\n",
      "[CV] END criterion=entropy, max_depth=25, max_features=auto, min_samples_leaf=6, min_samples_split=10, n_estimators=560; total time=   7.7s\n",
      "[CV] END criterion=entropy, max_depth=25, max_features=auto, min_samples_leaf=6, min_samples_split=10, n_estimators=560; total time=   6.5s\n",
      "[CV] END criterion=entropy, max_depth=25, max_features=auto, min_samples_leaf=6, min_samples_split=10, n_estimators=560; total time=   7.1s\n",
      "[CV] END criterion=entropy, max_depth=25, max_features=auto, min_samples_leaf=6, min_samples_split=10, n_estimators=560; total time=   6.4s\n",
      "[CV] END criterion=entropy, max_depth=25, max_features=auto, min_samples_leaf=6, min_samples_split=10, n_estimators=560; total time=   6.4s\n",
      "[CV] END criterion=entropy, max_depth=30, max_features=sqrt, min_samples_leaf=8, min_samples_split=15, n_estimators=230; total time=   2.7s\n",
      "[CV] END criterion=entropy, max_depth=30, max_features=sqrt, min_samples_leaf=8, min_samples_split=15, n_estimators=230; total time=   2.6s\n",
      "[CV] END criterion=entropy, max_depth=30, max_features=sqrt, min_samples_leaf=8, min_samples_split=15, n_estimators=230; total time=   2.6s\n",
      "[CV] END criterion=entropy, max_depth=30, max_features=sqrt, min_samples_leaf=8, min_samples_split=15, n_estimators=230; total time=   2.6s\n",
      "[CV] END criterion=entropy, max_depth=30, max_features=sqrt, min_samples_leaf=8, min_samples_split=15, n_estimators=230; total time=   2.6s\n",
      "[CV] END criterion=gini, max_depth=10, max_features=log2, min_samples_leaf=2, min_samples_split=20, n_estimators=450; total time=   4.8s\n",
      "[CV] END criterion=gini, max_depth=10, max_features=log2, min_samples_leaf=2, min_samples_split=20, n_estimators=450; total time=   4.7s\n",
      "[CV] END criterion=gini, max_depth=10, max_features=log2, min_samples_leaf=2, min_samples_split=20, n_estimators=450; total time=   4.6s\n",
      "[CV] END criterion=gini, max_depth=10, max_features=log2, min_samples_leaf=2, min_samples_split=20, n_estimators=450; total time=   4.7s\n",
      "[CV] END criterion=gini, max_depth=10, max_features=log2, min_samples_leaf=2, min_samples_split=20, n_estimators=450; total time=   4.9s\n",
      "[CV] END criterion=entropy, max_depth=30, max_features=sqrt, min_samples_leaf=2, min_samples_split=5, n_estimators=1000; total time=  13.0s\n",
      "[CV] END criterion=entropy, max_depth=30, max_features=sqrt, min_samples_leaf=2, min_samples_split=5, n_estimators=1000; total time=  12.6s\n",
      "[CV] END criterion=entropy, max_depth=30, max_features=sqrt, min_samples_leaf=2, min_samples_split=5, n_estimators=1000; total time=  12.9s\n",
      "[CV] END criterion=entropy, max_depth=30, max_features=sqrt, min_samples_leaf=2, min_samples_split=5, n_estimators=1000; total time=  13.4s\n",
      "[CV] END criterion=entropy, max_depth=30, max_features=sqrt, min_samples_leaf=2, min_samples_split=5, n_estimators=1000; total time=  12.9s\n",
      "[CV] END criterion=entropy, max_depth=10, max_features=sqrt, min_samples_leaf=6, min_samples_split=5, n_estimators=890; total time=  10.6s\n",
      "[CV] END criterion=entropy, max_depth=10, max_features=sqrt, min_samples_leaf=6, min_samples_split=5, n_estimators=890; total time=  11.2s\n",
      "[CV] END criterion=entropy, max_depth=10, max_features=sqrt, min_samples_leaf=6, min_samples_split=5, n_estimators=890; total time=  10.9s\n",
      "[CV] END criterion=entropy, max_depth=10, max_features=sqrt, min_samples_leaf=6, min_samples_split=5, n_estimators=890; total time=  10.4s\n",
      "[CV] END criterion=entropy, max_depth=10, max_features=sqrt, min_samples_leaf=6, min_samples_split=5, n_estimators=890; total time=  10.4s\n",
      "[CV] END criterion=entropy, max_depth=5, max_features=log2, min_samples_leaf=8, min_samples_split=20, n_estimators=1000; total time=   8.2s\n",
      "[CV] END criterion=entropy, max_depth=5, max_features=log2, min_samples_leaf=8, min_samples_split=20, n_estimators=1000; total time=   8.3s\n",
      "[CV] END criterion=entropy, max_depth=5, max_features=log2, min_samples_leaf=8, min_samples_split=20, n_estimators=1000; total time=   9.1s\n",
      "[CV] END criterion=entropy, max_depth=5, max_features=log2, min_samples_leaf=8, min_samples_split=20, n_estimators=1000; total time=   8.2s\n",
      "[CV] END criterion=entropy, max_depth=5, max_features=log2, min_samples_leaf=8, min_samples_split=20, n_estimators=1000; total time=   8.5s\n",
      "[CV] END criterion=gini, max_depth=5, max_features=auto, min_samples_leaf=6, min_samples_split=5, n_estimators=120; total time=   1.0s\n",
      "[CV] END criterion=gini, max_depth=5, max_features=auto, min_samples_leaf=6, min_samples_split=5, n_estimators=120; total time=   0.9s\n",
      "[CV] END criterion=gini, max_depth=5, max_features=auto, min_samples_leaf=6, min_samples_split=5, n_estimators=120; total time=   0.8s\n",
      "[CV] END criterion=gini, max_depth=5, max_features=auto, min_samples_leaf=6, min_samples_split=5, n_estimators=120; total time=   0.9s\n",
      "[CV] END criterion=gini, max_depth=5, max_features=auto, min_samples_leaf=6, min_samples_split=5, n_estimators=120; total time=   0.9s\n",
      "[CV] END criterion=entropy, max_depth=20, max_features=auto, min_samples_leaf=8, min_samples_split=17, n_estimators=450; total time=   5.3s\n",
      "[CV] END criterion=entropy, max_depth=20, max_features=auto, min_samples_leaf=8, min_samples_split=17, n_estimators=450; total time=   5.4s\n",
      "[CV] END criterion=entropy, max_depth=20, max_features=auto, min_samples_leaf=8, min_samples_split=17, n_estimators=450; total time=   5.4s\n",
      "[CV] END criterion=entropy, max_depth=20, max_features=auto, min_samples_leaf=8, min_samples_split=17, n_estimators=450; total time=   6.2s\n",
      "[CV] END criterion=entropy, max_depth=20, max_features=auto, min_samples_leaf=8, min_samples_split=17, n_estimators=450; total time=   5.6s\n",
      "[CV] END criterion=gini, max_depth=20, max_features=auto, min_samples_leaf=4, min_samples_split=10, n_estimators=450; total time=   5.2s\n",
      "[CV] END criterion=gini, max_depth=20, max_features=auto, min_samples_leaf=4, min_samples_split=10, n_estimators=450; total time=   5.2s\n",
      "[CV] END criterion=gini, max_depth=20, max_features=auto, min_samples_leaf=4, min_samples_split=10, n_estimators=450; total time=   6.2s\n",
      "[CV] END criterion=gini, max_depth=20, max_features=auto, min_samples_leaf=4, min_samples_split=10, n_estimators=450; total time=   8.8s\n",
      "[CV] END criterion=gini, max_depth=20, max_features=auto, min_samples_leaf=4, min_samples_split=10, n_estimators=450; total time=   8.6s\n"
     ]
    },
    {
     "name": "stdout",
     "output_type": "stream",
     "text": [
      "[CV] END criterion=entropy, max_depth=25, max_features=auto, min_samples_leaf=6, min_samples_split=10, n_estimators=890; total time=  13.5s\n",
      "[CV] END criterion=entropy, max_depth=25, max_features=auto, min_samples_leaf=6, min_samples_split=10, n_estimators=890; total time=  14.7s\n",
      "[CV] END criterion=entropy, max_depth=25, max_features=auto, min_samples_leaf=6, min_samples_split=10, n_estimators=890; total time=  10.8s\n",
      "[CV] END criterion=entropy, max_depth=25, max_features=auto, min_samples_leaf=6, min_samples_split=10, n_estimators=890; total time=  12.3s\n",
      "[CV] END criterion=entropy, max_depth=25, max_features=auto, min_samples_leaf=6, min_samples_split=10, n_estimators=890; total time=  11.7s\n",
      "[CV] END criterion=entropy, max_depth=5, max_features=auto, min_samples_leaf=4, min_samples_split=20, n_estimators=10; total time=   0.0s\n",
      "[CV] END criterion=entropy, max_depth=5, max_features=auto, min_samples_leaf=4, min_samples_split=20, n_estimators=10; total time=   0.0s\n",
      "[CV] END criterion=entropy, max_depth=5, max_features=auto, min_samples_leaf=4, min_samples_split=20, n_estimators=10; total time=   0.0s\n",
      "[CV] END criterion=entropy, max_depth=5, max_features=auto, min_samples_leaf=4, min_samples_split=20, n_estimators=10; total time=   0.0s\n",
      "[CV] END criterion=entropy, max_depth=5, max_features=auto, min_samples_leaf=4, min_samples_split=20, n_estimators=10; total time=   0.0s\n",
      "[CV] END criterion=gini, max_depth=25, max_features=auto, min_samples_leaf=4, min_samples_split=20, n_estimators=890; total time=  13.3s\n",
      "[CV] END criterion=gini, max_depth=25, max_features=auto, min_samples_leaf=4, min_samples_split=20, n_estimators=890; total time=  10.8s\n",
      "[CV] END criterion=gini, max_depth=25, max_features=auto, min_samples_leaf=4, min_samples_split=20, n_estimators=890; total time=  11.6s\n",
      "[CV] END criterion=gini, max_depth=25, max_features=auto, min_samples_leaf=4, min_samples_split=20, n_estimators=890; total time=  12.3s\n",
      "[CV] END criterion=gini, max_depth=25, max_features=auto, min_samples_leaf=4, min_samples_split=20, n_estimators=890; total time=  12.5s\n",
      "[CV] END criterion=gini, max_depth=25, max_features=auto, min_samples_leaf=6, min_samples_split=5, n_estimators=1000; total time=  12.6s\n",
      "[CV] END criterion=gini, max_depth=25, max_features=auto, min_samples_leaf=6, min_samples_split=5, n_estimators=1000; total time=  13.1s\n",
      "[CV] END criterion=gini, max_depth=25, max_features=auto, min_samples_leaf=6, min_samples_split=5, n_estimators=1000; total time=  11.9s\n",
      "[CV] END criterion=gini, max_depth=25, max_features=auto, min_samples_leaf=6, min_samples_split=5, n_estimators=1000; total time=  11.5s\n",
      "[CV] END criterion=gini, max_depth=25, max_features=auto, min_samples_leaf=6, min_samples_split=5, n_estimators=1000; total time=  12.9s\n",
      "[CV] END criterion=entropy, max_depth=15, max_features=sqrt, min_samples_leaf=8, min_samples_split=15, n_estimators=120; total time=   1.5s\n",
      "[CV] END criterion=entropy, max_depth=15, max_features=sqrt, min_samples_leaf=8, min_samples_split=15, n_estimators=120; total time=   1.6s\n",
      "[CV] END criterion=entropy, max_depth=15, max_features=sqrt, min_samples_leaf=8, min_samples_split=15, n_estimators=120; total time=   1.5s\n",
      "[CV] END criterion=entropy, max_depth=15, max_features=sqrt, min_samples_leaf=8, min_samples_split=15, n_estimators=120; total time=   1.6s\n",
      "[CV] END criterion=entropy, max_depth=15, max_features=sqrt, min_samples_leaf=8, min_samples_split=15, n_estimators=120; total time=   1.7s\n",
      "[CV] END criterion=gini, max_depth=30, max_features=auto, min_samples_leaf=2, min_samples_split=20, n_estimators=230; total time=   2.9s\n",
      "[CV] END criterion=gini, max_depth=30, max_features=auto, min_samples_leaf=2, min_samples_split=20, n_estimators=230; total time=   2.5s\n",
      "[CV] END criterion=gini, max_depth=30, max_features=auto, min_samples_leaf=2, min_samples_split=20, n_estimators=230; total time=   2.5s\n",
      "[CV] END criterion=gini, max_depth=30, max_features=auto, min_samples_leaf=2, min_samples_split=20, n_estimators=230; total time=   2.6s\n",
      "[CV] END criterion=gini, max_depth=30, max_features=auto, min_samples_leaf=2, min_samples_split=20, n_estimators=230; total time=   2.6s\n",
      "[CV] END criterion=entropy, max_depth=20, max_features=log2, min_samples_leaf=4, min_samples_split=10, n_estimators=10; total time=   0.1s\n",
      "[CV] END criterion=entropy, max_depth=20, max_features=log2, min_samples_leaf=4, min_samples_split=10, n_estimators=10; total time=   0.1s\n",
      "[CV] END criterion=entropy, max_depth=20, max_features=log2, min_samples_leaf=4, min_samples_split=10, n_estimators=10; total time=   0.0s\n",
      "[CV] END criterion=entropy, max_depth=20, max_features=log2, min_samples_leaf=4, min_samples_split=10, n_estimators=10; total time=   0.0s\n",
      "[CV] END criterion=entropy, max_depth=20, max_features=log2, min_samples_leaf=4, min_samples_split=10, n_estimators=10; total time=   0.0s\n",
      "[CV] END criterion=gini, max_depth=5, max_features=sqrt, min_samples_leaf=2, min_samples_split=20, n_estimators=1000; total time=  10.8s\n",
      "[CV] END criterion=gini, max_depth=5, max_features=sqrt, min_samples_leaf=2, min_samples_split=20, n_estimators=1000; total time=  10.1s\n",
      "[CV] END criterion=gini, max_depth=5, max_features=sqrt, min_samples_leaf=2, min_samples_split=20, n_estimators=1000; total time=   9.3s\n",
      "[CV] END criterion=gini, max_depth=5, max_features=sqrt, min_samples_leaf=2, min_samples_split=20, n_estimators=1000; total time=   8.9s\n",
      "[CV] END criterion=gini, max_depth=5, max_features=sqrt, min_samples_leaf=2, min_samples_split=20, n_estimators=1000; total time=   8.0s\n",
      "[CV] END criterion=gini, max_depth=25, max_features=log2, min_samples_leaf=8, min_samples_split=17, n_estimators=230; total time=   2.4s\n",
      "[CV] END criterion=gini, max_depth=25, max_features=log2, min_samples_leaf=8, min_samples_split=17, n_estimators=230; total time=   3.0s\n",
      "[CV] END criterion=gini, max_depth=25, max_features=log2, min_samples_leaf=8, min_samples_split=17, n_estimators=230; total time=   2.6s\n",
      "[CV] END criterion=gini, max_depth=25, max_features=log2, min_samples_leaf=8, min_samples_split=17, n_estimators=230; total time=   2.8s\n",
      "[CV] END criterion=gini, max_depth=25, max_features=log2, min_samples_leaf=8, min_samples_split=17, n_estimators=230; total time=   2.7s\n",
      "[CV] END criterion=entropy, max_depth=25, max_features=sqrt, min_samples_leaf=8, min_samples_split=17, n_estimators=450; total time=   5.5s\n",
      "[CV] END criterion=entropy, max_depth=25, max_features=sqrt, min_samples_leaf=8, min_samples_split=17, n_estimators=450; total time=   5.3s\n",
      "[CV] END criterion=entropy, max_depth=25, max_features=sqrt, min_samples_leaf=8, min_samples_split=17, n_estimators=450; total time=   5.5s\n",
      "[CV] END criterion=entropy, max_depth=25, max_features=sqrt, min_samples_leaf=8, min_samples_split=17, n_estimators=450; total time=   5.8s\n",
      "[CV] END criterion=entropy, max_depth=25, max_features=sqrt, min_samples_leaf=8, min_samples_split=17, n_estimators=450; total time=   5.5s\n",
      "[CV] END criterion=entropy, max_depth=15, max_features=sqrt, min_samples_leaf=6, min_samples_split=5, n_estimators=890; total time=  11.8s\n",
      "[CV] END criterion=entropy, max_depth=15, max_features=sqrt, min_samples_leaf=6, min_samples_split=5, n_estimators=890; total time=  11.1s\n",
      "[CV] END criterion=entropy, max_depth=15, max_features=sqrt, min_samples_leaf=6, min_samples_split=5, n_estimators=890; total time=  11.7s\n",
      "[CV] END criterion=entropy, max_depth=15, max_features=sqrt, min_samples_leaf=6, min_samples_split=5, n_estimators=890; total time=  14.2s\n",
      "[CV] END criterion=entropy, max_depth=15, max_features=sqrt, min_samples_leaf=6, min_samples_split=5, n_estimators=890; total time=  10.6s\n",
      "[CV] END criterion=gini, max_depth=10, max_features=auto, min_samples_leaf=6, min_samples_split=20, n_estimators=670; total time=   7.0s\n",
      "[CV] END criterion=gini, max_depth=10, max_features=auto, min_samples_leaf=6, min_samples_split=20, n_estimators=670; total time=   7.5s\n",
      "[CV] END criterion=gini, max_depth=10, max_features=auto, min_samples_leaf=6, min_samples_split=20, n_estimators=670; total time=   7.1s\n",
      "[CV] END criterion=gini, max_depth=10, max_features=auto, min_samples_leaf=6, min_samples_split=20, n_estimators=670; total time=   6.9s\n",
      "[CV] END criterion=gini, max_depth=10, max_features=auto, min_samples_leaf=6, min_samples_split=20, n_estimators=670; total time=   7.2s\n"
     ]
    },
    {
     "name": "stdout",
     "output_type": "stream",
     "text": [
      "[CV] END criterion=entropy, max_depth=5, max_features=log2, min_samples_leaf=4, min_samples_split=5, n_estimators=340; total time=   2.6s\n",
      "[CV] END criterion=entropy, max_depth=5, max_features=log2, min_samples_leaf=4, min_samples_split=5, n_estimators=340; total time=   2.6s\n",
      "[CV] END criterion=entropy, max_depth=5, max_features=log2, min_samples_leaf=4, min_samples_split=5, n_estimators=340; total time=   2.6s\n",
      "[CV] END criterion=entropy, max_depth=5, max_features=log2, min_samples_leaf=4, min_samples_split=5, n_estimators=340; total time=   2.8s\n",
      "[CV] END criterion=entropy, max_depth=5, max_features=log2, min_samples_leaf=4, min_samples_split=5, n_estimators=340; total time=   2.6s\n",
      "[CV] END criterion=entropy, max_depth=30, max_features=auto, min_samples_leaf=4, min_samples_split=5, n_estimators=890; total time=  10.4s\n",
      "[CV] END criterion=entropy, max_depth=30, max_features=auto, min_samples_leaf=4, min_samples_split=5, n_estimators=890; total time=  10.6s\n",
      "[CV] END criterion=entropy, max_depth=30, max_features=auto, min_samples_leaf=4, min_samples_split=5, n_estimators=890; total time=  11.3s\n",
      "[CV] END criterion=entropy, max_depth=30, max_features=auto, min_samples_leaf=4, min_samples_split=5, n_estimators=890; total time=  10.6s\n",
      "[CV] END criterion=entropy, max_depth=30, max_features=auto, min_samples_leaf=4, min_samples_split=5, n_estimators=890; total time=  10.6s\n",
      "[CV] END criterion=gini, max_depth=5, max_features=auto, min_samples_leaf=4, min_samples_split=15, n_estimators=1000; total time=   7.9s\n",
      "[CV] END criterion=gini, max_depth=5, max_features=auto, min_samples_leaf=4, min_samples_split=15, n_estimators=1000; total time=   7.7s\n",
      "[CV] END criterion=gini, max_depth=5, max_features=auto, min_samples_leaf=4, min_samples_split=15, n_estimators=1000; total time=   8.0s\n",
      "[CV] END criterion=gini, max_depth=5, max_features=auto, min_samples_leaf=4, min_samples_split=15, n_estimators=1000; total time=   7.7s\n",
      "[CV] END criterion=gini, max_depth=5, max_features=auto, min_samples_leaf=4, min_samples_split=15, n_estimators=1000; total time=   8.0s\n",
      "[CV] END criterion=entropy, max_depth=20, max_features=auto, min_samples_leaf=4, min_samples_split=20, n_estimators=120; total time=   1.5s\n",
      "[CV] END criterion=entropy, max_depth=20, max_features=auto, min_samples_leaf=4, min_samples_split=20, n_estimators=120; total time=   1.4s\n",
      "[CV] END criterion=entropy, max_depth=20, max_features=auto, min_samples_leaf=4, min_samples_split=20, n_estimators=120; total time=   1.5s\n",
      "[CV] END criterion=entropy, max_depth=20, max_features=auto, min_samples_leaf=4, min_samples_split=20, n_estimators=120; total time=   1.3s\n",
      "[CV] END criterion=entropy, max_depth=20, max_features=auto, min_samples_leaf=4, min_samples_split=20, n_estimators=120; total time=   1.3s\n"
     ]
    },
    {
     "data": {
      "text/plain": [
       "RandomizedSearchCV(cv=5, estimator=RandomForestClassifier(), n_iter=100,\n",
       "                   n_jobs=1,\n",
       "                   param_distributions={'criterion': ['gini', 'entropy'],\n",
       "                                        'max_depth': [5, 10, 15, 20, 25, 30],\n",
       "                                        'max_features': ['auto', 'sqrt',\n",
       "                                                         'log2'],\n",
       "                                        'min_samples_leaf': [2, 4, 6, 8],\n",
       "                                        'min_samples_split': [5, 10, 15, 20,\n",
       "                                                              17],\n",
       "                                        'n_estimators': [10, 120, 230, 340, 450,\n",
       "                                                         560, 670, 780, 890,\n",
       "                                                         1000]},\n",
       "                   random_state=42, verbose=2)"
      ]
     },
     "execution_count": 46,
     "metadata": {},
     "output_type": "execute_result"
    }
   ],
   "source": [
    "Hyper_RF.fit(X_train,y_train)"
   ]
  },
  {
   "cell_type": "code",
   "execution_count": 48,
   "metadata": {},
   "outputs": [
    {
     "name": "stdout",
     "output_type": "stream",
     "text": [
      "The best parameters : {'n_estimators': 1000, 'min_samples_split': 5, 'min_samples_leaf': 2, 'max_features': 'sqrt', 'max_depth': 30, 'criterion': 'entropy'}\n"
     ]
    }
   ],
   "source": [
    "print(\"The best parameters : {}\".format(Hyper_RF.best_params_ ))"
   ]
  },
  {
   "cell_type": "code",
   "execution_count": 49,
   "metadata": {},
   "outputs": [],
   "source": [
    "RF_prediction=Hyper_RF.predict(X_test)"
   ]
  },
  {
   "cell_type": "code",
   "execution_count": 50,
   "metadata": {},
   "outputs": [
    {
     "name": "stdout",
     "output_type": "stream",
     "text": [
      "Accuray after Hyper parameter tuning : 0.9802222222222222\n"
     ]
    }
   ],
   "source": [
    "print('Accuray after Hyper parameter tuning : {}'.format(accuracy_score(y_test,RF_prediction)))"
   ]
  },
  {
   "cell_type": "code",
   "execution_count": 56,
   "metadata": {},
   "outputs": [
    {
     "data": {
      "image/png": "[encoded data removed]",
      "text/plain": [
       "<Figure size 432x288 with 1 Axes>"
      ]
     },
     "metadata": {
      "needs_background": "light"
     },
     "output_type": "display_data"
    }
   ],
   "source": [
    "sns.distplot(y_test-RF_prediction)\n",
    "plt.title('Error Distribution of HyperParameter RandomForestClassifier')\n",
    "plt.show()"
   ]
  },
  {
   "cell_type": "markdown",
   "metadata": {},
   "source": [
    "### Checking this model using new data"
   ]
  },
  {
   "cell_type": "code",
   "execution_count": 93,
   "metadata": {},
   "outputs": [
    {
     "name": "stdout",
     "output_type": "stream",
     "text": [
      "[0]\n"
     ]
    }
   ],
   "source": [
    "new_emp=[0.80,.65,4,262,7,0,0,1,1] \n",
    "print(Hyper_RF.predict([new_emp]))"
   ]
  },
  {
   "cell_type": "markdown",
   "metadata": {},
   "source": [
    "- For this employee, there is a chance to continue his/her job.\n",
    "---------------------------------------------"
   ]
  },
  {
   "cell_type": "code",
   "execution_count": 94,
   "metadata": {},
   "outputs": [],
   "source": [
    "import pickle\n",
    "file=open('RF_Model.pkl','wb')\n",
    "pickle.dump(Hyper_RF,file)"
   ]
  },
  {
   "cell_type": "code",
   "execution_count": null,
   "metadata": {},
   "outputs": [],
   "source": []
  }
 ],
 "metadata": {
  "kernelspec": {
   "display_name": "Python 3",
   "language": "python",
   "name": "python3"
  },
  "language_info": {
   "codemirror_mode": {
    "name": "ipython",
    "version": 3
   },
   "file_extension": ".py",
   "mimetype": "text/x-python",
   "name": "python",
   "nbconvert_exporter": "python",
   "pygments_lexer": "ipython3",
   "version": "3.8.5"
  }
 },
 "nbformat": 4,
 "nbformat_minor": 4
}
